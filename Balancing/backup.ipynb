{
 "cells": [
  {
   "cell_type": "code",
   "execution_count": null,
   "id": "73ae5f33",
   "metadata": {},
   "outputs": [],
   "source": [
    "import numpy as np\n",
    "import pandas as pd\n",
    "import matplotlib.pyplot as plt\n",
    "\n",
    "import copy\n",
    "import csv\n",
    "import warnings\n",
    "from typing import List, Set, Dict, Tuple, Union\n",
    "\n",
    "warnings.filterwarnings('ignore')\n",
    "Combination = Tuple[int, ...]"
   ]
  },
  {
   "cell_type": "code",
   "execution_count": null,
   "id": "9ee8027c",
   "metadata": {},
   "outputs": [],
   "source": [
    "SOURCE_POWERSHELL_DATASET_FILENAME: str = r\"D:\\Obfuscation\\data\\datasets\\POWERSHELL_DATASET.csv\"\n",
    "TOKENIZER_POWERSHELL_DATASET_FILENAME: str = r\"D:\\Obfuscation\\data\\datasets\\TOKENIZER_DATASET_UPDATED.csv\"\n",
    "WRONG_COMMANDS_FILENAME: str = r\"D:\\Obfuscation\\data\\WRONG_COMMANDS.csv\"\n",
    "\n",
    "BALANCED_OBF_METHODS_RATIO_150_FILENAME: str = r\"D:\\Obfuscation\\data\\datasets\\balanced\\BALANCED_OBF_METHODS_RATIO_150_DATASET.csv\"\n",
    "BALANCED_OBF_METHODS_RATIO_200_FILENAME: str = r\"D:\\Obfuscation\\data\\datasets\\balanced\\BALANCED_OBF_METHODS_RATIO_200_DATASET.csv\"\n",
    "BALANCED_OBF_METHODS_RATIO_2000_FILENAME: str = r\"D:\\Obfuscation\\data\\datasets\\balanced\\BALANCED_OBF_METHODS_RATIO_2000_DATASET.csv\""
   ]
  },
  {
   "cell_type": "code",
   "execution_count": null,
   "id": "67c6ea72",
   "metadata": {},
   "outputs": [],
   "source": [
    "OBF_METHODS_LOWER_INDEX: int = 2  # included(index starts from 0)\n",
    "OBF_METHODS_UPPER_INDEX: int = 7  # excluded\n",
    "WRONG_COMMANDS_ROW_NUMBER_INDEX: int = 0\n",
    "WRONG_COMMANDS_ROW_NUMBER_DIFFERENCE: int = 2  # between row_number in csv file and real index"
   ]
  },
  {
   "cell_type": "code",
   "execution_count": null,
   "id": "95c21b38",
   "metadata": {},
   "outputs": [],
   "source": [
    "source_df = pd.read_csv(SOURCE_POWERSHELL_DATASET_FILENAME)\n",
    "tokenizer_df = pd.read_csv(TOKENIZER_POWERSHELL_DATASET_FILENAME, sep=';')"
   ]
  },
  {
   "cell_type": "code",
   "execution_count": null,
   "id": "3d4d7a3f",
   "metadata": {},
   "outputs": [],
   "source": [
    "print(source_df.shape)\n",
    "source_df.head()"
   ]
  },
  {
   "cell_type": "code",
   "execution_count": null,
   "id": "7f855207",
   "metadata": {},
   "outputs": [],
   "source": [
    "print(tokenizer_df.shape)\n",
    "tokenizer_df.head()"
   ]
  },
  {
   "cell_type": "code",
   "execution_count": null,
   "id": "b0e0808a",
   "metadata": {},
   "outputs": [],
   "source": [
    "obf_methods: List[str] = source_df.columns[OBF_METHODS_LOWER_INDEX:OBF_METHODS_UPPER_INDEX].to_list()"
   ]
  },
  {
   "cell_type": "code",
   "execution_count": null,
   "id": "9cb981b8",
   "metadata": {},
   "outputs": [],
   "source": [
    "obf_methods"
   ]
  },
  {
   "cell_type": "code",
   "execution_count": null,
   "id": "5cb8aa29",
   "metadata": {},
   "outputs": [],
   "source": [
    "def get_data(filename: str, sep: str = ',') -> List[str]:\n",
    "    with open(filename, encoding=\"UTF8\") as file:\n",
    "        reader = csv.reader(file, delimiter=sep)\n",
    "        for row in reader:\n",
    "            yield row"
   ]
  },
  {
   "cell_type": "code",
   "execution_count": null,
   "id": "da636fea",
   "metadata": {},
   "outputs": [],
   "source": [
    "def get_wrong_command_indexes(filename: str, has_header: bool = True, sep: str = ',') -> Set[int]:\n",
    "    generator = get_data(filename=filename, sep=sep)\n",
    "    indexes: Set[int] = set()\n",
    "    if has_header:\n",
    "        header: List[str] = next(generator, None)\n",
    "    row: List[str] = next(generator, [])\n",
    "    while row:\n",
    "        if not str.isdigit(row[WRONG_COMMANDS_ROW_NUMBER_INDEX]):\n",
    "            break\n",
    "        index: int = int(row[WRONG_COMMANDS_ROW_NUMBER_INDEX]) - WRONG_COMMANDS_ROW_NUMBER_DIFFERENCE\n",
    "        indexes.add(index)\n",
    "        row = next(generator, [])\n",
    "    return indexes"
   ]
  },
  {
   "cell_type": "code",
   "execution_count": null,
   "id": "48710494",
   "metadata": {},
   "outputs": [],
   "source": [
    "wrong_commands_indexes: Set[int] = get_wrong_command_indexes(WRONG_COMMANDS_FILENAME)"
   ]
  },
  {
   "cell_type": "code",
   "execution_count": null,
   "id": "dd79bcd9",
   "metadata": {},
   "outputs": [],
   "source": [
    "correct_commands_indexes: List[int] = [index for index in np.arange(len(source_df)) if index not in wrong_commands_indexes]"
   ]
  },
  {
   "cell_type": "code",
   "execution_count": null,
   "id": "89e76f6c",
   "metadata": {},
   "outputs": [],
   "source": [
    "print(len(wrong_commands_indexes))\n",
    "wrong_commands_indexes"
   ]
  },
  {
   "cell_type": "code",
   "execution_count": null,
   "id": "08140c28",
   "metadata": {},
   "outputs": [],
   "source": [
    "len(correct_commands_indexes)"
   ]
  },
  {
   "cell_type": "code",
   "execution_count": null,
   "id": "2701dba7",
   "metadata": {},
   "outputs": [],
   "source": [
    "source_df.iloc[correct_commands_indexes, :][obf_methods].value_counts(sort=False).plot.bar()\n",
    "None"
   ]
  },
  {
   "cell_type": "code",
   "execution_count": null,
   "id": "52488c79",
   "metadata": {},
   "outputs": [],
   "source": [
    "limits: Tuple[int, int, int] = (150, 200, 2000)\n",
    "    \n",
    "combinations: List[Combination] = [\n",
    "    (0, 0, 0, 0, 0),  # \"\"\n",
    "    (0, 0, 0, 0, 1),  # \"symbol\"\n",
    "    (0, 0, 0, 1, 0),  # \"string\"\n",
    "    (0, 0, 0, 1, 1),  # \"string, symbol\"\n",
    "    (0, 0, 1, 0, 0),  # \"encoding\"\n",
    "    (0, 0, 1, 1, 0),  # \"encoding, string\"\n",
    "    (0, 1, 0, 0, 0),  # \"variables\"\n",
    "    (0, 1, 0, 0, 1),  # \"variables, symbol\"\n",
    "    (0, 1, 0, 1, 0),  # \"variables, string\"\n",
    "    (0, 1, 0, 1, 1),  # \"variables, string, symbol\"\n",
    "    (0, 1, 1, 0, 0),  # \"variables, encoding\"\n",
    "    (0, 1, 1, 1, 0),  # \"variables, encoding, string\"\n",
    "    (0, 1, 1, 1, 1),  # \"variables, encoding, string, symbol\"\n",
    "    (1, 0, 0, 0, 0),  # \"short\"\n",
    "    (1, 0, 1, 0, 0),  # \"short, encoding\"\n",
    "]\n",
    "    \n",
    "counts: pd.Series = source_df.iloc[correct_commands_indexes, :][obf_methods].value_counts(sort=False)"
   ]
  },
  {
   "cell_type": "code",
   "execution_count": null,
   "id": "2afdaca1",
   "metadata": {},
   "outputs": [],
   "source": [
    "counts"
   ]
  },
  {
   "cell_type": "code",
   "execution_count": null,
   "id": "8df00ee5",
   "metadata": {},
   "outputs": [],
   "source": [
    "limits_groups_per_combinations: Dict[str, Dict[Combination, int]] = {\n",
    "    f\"Combinations with maximum {limit} objects\": \n",
    "    {combination: count if count <= limit else limit for combination, count in zip(combinations, counts)}\n",
    "    for limit in limits\n",
    "}"
   ]
  },
  {
   "cell_type": "code",
   "execution_count": null,
   "id": "545891d5",
   "metadata": {},
   "outputs": [],
   "source": [
    "for key, limits_per_combinations in limits_groups_per_combinations.items():\n",
    "    expected_total_objects: int = 0\n",
    "    print(key)\n",
    "    for combination, count in limits_per_combinations.items():\n",
    "        print(f\"{combination}: {count}\")\n",
    "        expected_total_objects += count\n",
    "    print(f\"Expected total objects quantity = {expected_total_objects}.\\n\")"
   ]
  },
  {
   "cell_type": "code",
   "execution_count": null,
   "id": "b0a834e2",
   "metadata": {},
   "outputs": [],
   "source": [
    "rnd = np.random.RandomState(0)\n",
    "\n",
    "# limits_per_combinations stores only correct(not wrong) command's quantity\n",
    "def generate_random_obj_indexes(source_df: pd.DataFrame, limits_per_combinations: Dict[Combination, int], wrong_commands_indexes: Set[int], step: int = 50) -> Dict[int, Combination]:\n",
    "    hash_map: Dict[int, Combination] = {}  # obj index: combination of obf methods for this object\n",
    "    summa: int = sum(limits_per_combinations.values())\n",
    "    index: int = -1\n",
    "    while summa > 0:\n",
    "        index = rnd.randint(index + 1, index + step + 1) % len(source_df)\n",
    "        if index in wrong_commands_indexes:\n",
    "            continue\n",
    "        combination: Combination = tuple(source_df.iloc[index, OBF_METHODS_LOWER_INDEX:OBF_METHODS_UPPER_INDEX].to_list())\n",
    "        if hash_map.get(index, None) is None and limits_per_combinations[combination] > 0:\n",
    "            limits_per_combinations[combination] -= 1\n",
    "            summa -= 1\n",
    "            hash_map[index] = combination\n",
    "    return hash_map"
   ]
  },
  {
   "cell_type": "code",
   "execution_count": null,
   "id": "2810b15c",
   "metadata": {},
   "outputs": [],
   "source": [
    "def get_tokenizer_obj_indexes_difference(sorted_wrong_commands_indexes: List[int], correct_command_index: int, wrong_commands_pointer: int = 0) -> int:\n",
    "    result: int = 0\n",
    "    for i in np.arange(wrong_commands_pointer, len(sorted_wrong_commands_indexes)):\n",
    "        if correct_command_index < sorted_wrong_commands_indexes[i]:\n",
    "            break\n",
    "        result += 1\n",
    "    return result"
   ]
  },
  {
   "cell_type": "code",
   "execution_count": null,
   "id": "2df42e2f",
   "metadata": {},
   "outputs": [],
   "source": [
    "def generate_dataframe(source_df: pd.DataFrame, tokenizer_df: pd.DataFrame, limits_per_combinations: Dict[Combination, int], wrong_commands_indexes: Set[int], step: int = 50) -> pd.DataFrame:\n",
    "    obj_indexes: Dict[int, Combination] = generate_random_obj_indexes(\n",
    "        source_df=source_df,\n",
    "        limits_per_combinations=limits_per_combinations,\n",
    "        wrong_commands_indexes=wrong_commands_indexes,\n",
    "        step=step\n",
    "    )\n",
    "    obj_indexes = dict(sorted(obj_indexes.items(), key=lambda pair: pair[0]))\n",
    "    commands: List[str] = source_df.iloc[list(obj_indexes.keys()), :][\"command_obfuscated\"].to_list()\n",
    "    combinations: List[Combination] = list(obj_indexes.values())\n",
    "    tokenizer_indexes: List[int] = [0] * len(commands)\n",
    "    i: int = 0\n",
    "        \n",
    "    sorted_wrong_commands_indexes: List[int] = sorted(wrong_commands_indexes)\n",
    "    wrong_commands_pointer: int = 0\n",
    "    for index, combination in obj_indexes.items():\n",
    "        difference: int = get_tokenizer_obj_indexes_difference(sorted_wrong_commands_indexes, index, wrong_commands_pointer)\n",
    "        wrong_commands_pointer += difference\n",
    "        tokenizer_index: int = index - wrong_commands_pointer\n",
    "        tokenizer_indexes[i] = tokenizer_index\n",
    "        i += 1\n",
    "\n",
    "    result_df: pd.DataFrame = tokenizer_df.iloc[tokenizer_indexes, :]\n",
    "    result_df.insert(0, \"command_obfuscated\", commands, allow_duplicates=False)\n",
    "    result_df[\"obfuscation_methods_mask\"] = combinations\n",
    "    return result_df"
   ]
  },
  {
   "cell_type": "code",
   "execution_count": null,
   "id": "e02aea5b",
   "metadata": {},
   "outputs": [],
   "source": [
    "dataframes: Dict[str, pd.DataFrame] = {}\n",
    "\n",
    "for key, limits_per_combinations in limits_groups_per_combinations.items():\n",
    "    print(key)\n",
    "    print(\"Генерация датафрейма началась.\")\n",
    "    dataframe: pd.DataFrame = generate_dataframe(\n",
    "        source_df=source_df,\n",
    "        tokenizer_df=tokenizer_df,\n",
    "        limits_per_combinations=copy.deepcopy(limits_per_combinations),\n",
    "        wrong_commands_indexes=wrong_commands_indexes\n",
    "    )\n",
    "    print(\"Генерация датафрейма завершена!\")\n",
    "    dataframes[key] = dataframe"
   ]
  },
  {
   "cell_type": "code",
   "execution_count": null,
   "id": "a86e4a2f",
   "metadata": {},
   "outputs": [],
   "source": [
    "for dataframe in dataframes.values():\n",
    "    print(dataframe.shape)"
   ]
  },
  {
   "cell_type": "code",
   "execution_count": null,
   "id": "ad12a9d8",
   "metadata": {},
   "outputs": [],
   "source": [
    "def save_dataframes_to_csv(dataframes: List[pd.DataFrame], filenames: List[str]) -> bool:\n",
    "    if len(dataframes) != len(filenames): \n",
    "        return False\n",
    "    for dataframe, filename in zip(dataframes, filenames):\n",
    "        dataframe.to_csv(filename, index=False)\n",
    "    return True"
   ]
  },
  {
   "cell_type": "code",
   "execution_count": null,
   "id": "692f9091",
   "metadata": {},
   "outputs": [],
   "source": [
    "dataframes_list: List[pd.DataFrame] = list(dataframes.values())\n",
    "filenames: List[str] = [\n",
    "    BALANCED_OBF_METHODS_RATIO_150_FILENAME,\n",
    "    BALANCED_OBF_METHODS_RATIO_200_FILENAME,\n",
    "    BALANCED_OBF_METHODS_RATIO_2000_FILENAME,\n",
    "]"
   ]
  },
  {
   "cell_type": "code",
   "execution_count": null,
   "id": "4fda1fd4",
   "metadata": {},
   "outputs": [],
   "source": [
    "save_dataframes_to_csv(dataframes=dataframes_list, filenames=filenames)"
   ]
  }
 ],
 "metadata": {
  "kernelspec": {
   "display_name": "Python 3 (ipykernel)",
   "language": "python",
   "name": "python3"
  },
  "language_info": {
   "codemirror_mode": {
    "name": "ipython",
    "version": 3
   },
   "file_extension": ".py",
   "mimetype": "text/x-python",
   "name": "python",
   "nbconvert_exporter": "python",
   "pygments_lexer": "ipython3",
   "version": "3.9.13"
  }
 },
 "nbformat": 4,
 "nbformat_minor": 5
}

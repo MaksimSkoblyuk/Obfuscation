{
 "cells": [
  {
   "cell_type": "code",
   "execution_count": 1,
   "id": "00f02993",
   "metadata": {},
   "outputs": [],
   "source": [
    "# import libraries\n",
    "import pandas as pd\n",
    "import numpy as np\n",
    "import matplotlib.pyplot as plt\n",
    "\n",
    "from sklearn.model_selection import train_test_split, cross_val_score, GridSearchCV\n",
    "from sklearn.naive_bayes import MultinomialNB, GaussianNB\n",
    "from sklearn.preprocessing import MinMaxScaler\n",
    "from sklearn.metrics import accuracy_score, precision_score, recall_score\n",
    "\n",
    "import pickle"
   ]
  },
  {
   "cell_type": "code",
   "execution_count": 3,
   "id": "b03d1d79",
   "metadata": {},
   "outputs": [],
   "source": [
    "# declaration filename's paths\n",
    "OBFUSCATED_COMMANDS_FILENAME: str = r\"D:\\Obfuscation\\data\\datasets\\balanced\\BALANCED_DATASET_770_WITHOUT_CMD.csv\"\n",
    "    \n",
    "TRAIN_FEATURES_FILENAME: str = r\"D:\\Obfuscation\\data\\datasets\\divided\\train_features.csv\"\n",
    "VALIDATE_FEATURES_FILENAME: str = r\"D:\\Obfuscation\\data\\datasets\\divided\\validate_features.csv\"\n",
    "TEST_FEATURES_FILENAME: str = r\"D:\\Obfuscation\\data\\datasets\\divided\\test_features.csv\"\n",
    "            \n",
    "TRAIN_LABELS_FILENAME: str = r\"D:\\Obfuscation\\data\\datasets\\divided\\train_labels.csv\"\n",
    "VALIDATE_LABELS_FILENAME: str = r\"D:\\Obfuscation\\data\\datasets\\divided\\validate_labels.csv\"\n",
    "TEST_LABELS_FILENAME: str = r\"D:\\Obfuscation\\data\\datasets\\divided\\test_labels.csv\""
   ]
  },
  {
   "cell_type": "code",
   "execution_count": 3,
   "id": "4218f969",
   "metadata": {},
   "outputs": [],
   "source": [
    "# import dataset\n",
    "obfuscated_commands: pd.DataFrame = pd.read_csv(OBFUSCATED_COMMANDS_FILENAME)"
   ]
  },
  {
   "cell_type": "code",
   "execution_count": 4,
   "id": "db1bda4a",
   "metadata": {},
   "outputs": [
    {
     "name": "stdout",
     "output_type": "stream",
     "text": [
      "(10728, 2712)\n"
     ]
    },
    {
     "data": {
      "text/html": [
       "<div>\n",
       "<style scoped>\n",
       "    .dataframe tbody tr th:only-of-type {\n",
       "        vertical-align: middle;\n",
       "    }\n",
       "\n",
       "    .dataframe tbody tr th {\n",
       "        vertical-align: top;\n",
       "    }\n",
       "\n",
       "    .dataframe thead th {\n",
       "        text-align: right;\n",
       "    }\n",
       "</style>\n",
       "<table border=\"1\" class=\"dataframe\">\n",
       "  <thead>\n",
       "    <tr style=\"text-align: right;\">\n",
       "      <th></th>\n",
       "      <th>index_in_powershell_dataset</th>\n",
       "      <th>command_obfuscated</th>\n",
       "      <th>AstGroupedArrayElementRangeCounts_0-10_Count</th>\n",
       "      <th>AstGroupedArrayElementRangeCounts_0-10_Percent</th>\n",
       "      <th>AstGroupedArrayElementRangeCounts_10-20_Count</th>\n",
       "      <th>AstGroupedArrayElementRangeCounts_10-20_Percent</th>\n",
       "      <th>AstGroupedArrayElementRangeCounts_20-30_Count</th>\n",
       "      <th>AstGroupedArrayElementRangeCounts_20-30_Percent</th>\n",
       "      <th>AstGroupedArrayElementRangeCounts_30-40_Count</th>\n",
       "      <th>AstGroupedArrayElementRangeCounts_30-40_Percent</th>\n",
       "      <th>...</th>\n",
       "      <th>AstVariableNameMetrics_Length_Range</th>\n",
       "      <th>AstVariableNameMetrics_Length_Total</th>\n",
       "      <th>AstVariableNameMetrics_UpperAlphaPercent_Average</th>\n",
       "      <th>AstVariableNameMetrics_UpperAlphaPercent_Maximum</th>\n",
       "      <th>AstVariableNameMetrics_UpperAlphaPercent_Median</th>\n",
       "      <th>AstVariableNameMetrics_UpperAlphaPercent_Minimum</th>\n",
       "      <th>AstVariableNameMetrics_UpperAlphaPercent_Mode</th>\n",
       "      <th>AstVariableNameMetrics_UpperAlphaPercent_Range</th>\n",
       "      <th>obfuscated</th>\n",
       "      <th>obf_methods_combination_number</th>\n",
       "    </tr>\n",
       "  </thead>\n",
       "  <tbody>\n",
       "    <tr>\n",
       "      <th>0</th>\n",
       "      <td>0</td>\n",
       "      <td>$PSVersionTable</td>\n",
       "      <td>0.0</td>\n",
       "      <td>0.0</td>\n",
       "      <td>0.0</td>\n",
       "      <td>0.0</td>\n",
       "      <td>0.0</td>\n",
       "      <td>0.0</td>\n",
       "      <td>0.0</td>\n",
       "      <td>0.0</td>\n",
       "      <td>...</td>\n",
       "      <td>0.0</td>\n",
       "      <td>14.0</td>\n",
       "      <td>0.285714</td>\n",
       "      <td>0.285714</td>\n",
       "      <td>0.285714</td>\n",
       "      <td>0.285714</td>\n",
       "      <td>0.285714</td>\n",
       "      <td>0.000000</td>\n",
       "      <td>0</td>\n",
       "      <td>0</td>\n",
       "    </tr>\n",
       "    <tr>\n",
       "      <th>1</th>\n",
       "      <td>1</td>\n",
       "      <td>$UserCredential = Get-Credential $Session = Ne...</td>\n",
       "      <td>0.0</td>\n",
       "      <td>0.0</td>\n",
       "      <td>0.0</td>\n",
       "      <td>0.0</td>\n",
       "      <td>0.0</td>\n",
       "      <td>0.0</td>\n",
       "      <td>0.0</td>\n",
       "      <td>0.0</td>\n",
       "      <td>...</td>\n",
       "      <td>7.0</td>\n",
       "      <td>36.0</td>\n",
       "      <td>0.169643</td>\n",
       "      <td>0.250000</td>\n",
       "      <td>0.142857</td>\n",
       "      <td>0.142857</td>\n",
       "      <td>0.142857</td>\n",
       "      <td>0.107143</td>\n",
       "      <td>0</td>\n",
       "      <td>0</td>\n",
       "    </tr>\n",
       "    <tr>\n",
       "      <th>2</th>\n",
       "      <td>2</td>\n",
       "      <td>$members = Import-CSV c:itadd-to-group.csv | S...</td>\n",
       "      <td>0.0</td>\n",
       "      <td>0.0</td>\n",
       "      <td>0.0</td>\n",
       "      <td>0.0</td>\n",
       "      <td>0.0</td>\n",
       "      <td>0.0</td>\n",
       "      <td>0.0</td>\n",
       "      <td>0.0</td>\n",
       "      <td>...</td>\n",
       "      <td>0.0</td>\n",
       "      <td>14.0</td>\n",
       "      <td>0.000000</td>\n",
       "      <td>0.000000</td>\n",
       "      <td>0.000000</td>\n",
       "      <td>0.000000</td>\n",
       "      <td>0.000000</td>\n",
       "      <td>0.000000</td>\n",
       "      <td>0</td>\n",
       "      <td>0</td>\n",
       "    </tr>\n",
       "    <tr>\n",
       "      <th>3</th>\n",
       "      <td>3</td>\n",
       "      <td>$os = Get-WmiObject win32_operatingsystem $upt...</td>\n",
       "      <td>0.0</td>\n",
       "      <td>0.0</td>\n",
       "      <td>0.0</td>\n",
       "      <td>0.0</td>\n",
       "      <td>0.0</td>\n",
       "      <td>0.0</td>\n",
       "      <td>0.0</td>\n",
       "      <td>0.0</td>\n",
       "      <td>...</td>\n",
       "      <td>4.0</td>\n",
       "      <td>16.0</td>\n",
       "      <td>0.000000</td>\n",
       "      <td>0.000000</td>\n",
       "      <td>0.000000</td>\n",
       "      <td>0.000000</td>\n",
       "      <td>0.000000</td>\n",
       "      <td>0.000000</td>\n",
       "      <td>0</td>\n",
       "      <td>0</td>\n",
       "    </tr>\n",
       "    <tr>\n",
       "      <th>4</th>\n",
       "      <td>4</td>\n",
       "      <td>Add-ADGroupMember -Identity group-name -Member...</td>\n",
       "      <td>1.0</td>\n",
       "      <td>100.0</td>\n",
       "      <td>0.0</td>\n",
       "      <td>0.0</td>\n",
       "      <td>0.0</td>\n",
       "      <td>0.0</td>\n",
       "      <td>0.0</td>\n",
       "      <td>0.0</td>\n",
       "      <td>...</td>\n",
       "      <td>0.0</td>\n",
       "      <td>0.0</td>\n",
       "      <td>0.000000</td>\n",
       "      <td>0.000000</td>\n",
       "      <td>0.000000</td>\n",
       "      <td>0.000000</td>\n",
       "      <td>0.000000</td>\n",
       "      <td>0.000000</td>\n",
       "      <td>0</td>\n",
       "      <td>0</td>\n",
       "    </tr>\n",
       "  </tbody>\n",
       "</table>\n",
       "<p>5 rows × 2712 columns</p>\n",
       "</div>"
      ],
      "text/plain": [
       "   index_in_powershell_dataset  \\\n",
       "0                            0   \n",
       "1                            1   \n",
       "2                            2   \n",
       "3                            3   \n",
       "4                            4   \n",
       "\n",
       "                                  command_obfuscated  \\\n",
       "0                                    $PSVersionTable   \n",
       "1  $UserCredential = Get-Credential $Session = Ne...   \n",
       "2  $members = Import-CSV c:itadd-to-group.csv | S...   \n",
       "3  $os = Get-WmiObject win32_operatingsystem $upt...   \n",
       "4  Add-ADGroupMember -Identity group-name -Member...   \n",
       "\n",
       "   AstGroupedArrayElementRangeCounts_0-10_Count  \\\n",
       "0                                           0.0   \n",
       "1                                           0.0   \n",
       "2                                           0.0   \n",
       "3                                           0.0   \n",
       "4                                           1.0   \n",
       "\n",
       "   AstGroupedArrayElementRangeCounts_0-10_Percent  \\\n",
       "0                                             0.0   \n",
       "1                                             0.0   \n",
       "2                                             0.0   \n",
       "3                                             0.0   \n",
       "4                                           100.0   \n",
       "\n",
       "   AstGroupedArrayElementRangeCounts_10-20_Count  \\\n",
       "0                                            0.0   \n",
       "1                                            0.0   \n",
       "2                                            0.0   \n",
       "3                                            0.0   \n",
       "4                                            0.0   \n",
       "\n",
       "   AstGroupedArrayElementRangeCounts_10-20_Percent  \\\n",
       "0                                              0.0   \n",
       "1                                              0.0   \n",
       "2                                              0.0   \n",
       "3                                              0.0   \n",
       "4                                              0.0   \n",
       "\n",
       "   AstGroupedArrayElementRangeCounts_20-30_Count  \\\n",
       "0                                            0.0   \n",
       "1                                            0.0   \n",
       "2                                            0.0   \n",
       "3                                            0.0   \n",
       "4                                            0.0   \n",
       "\n",
       "   AstGroupedArrayElementRangeCounts_20-30_Percent  \\\n",
       "0                                              0.0   \n",
       "1                                              0.0   \n",
       "2                                              0.0   \n",
       "3                                              0.0   \n",
       "4                                              0.0   \n",
       "\n",
       "   AstGroupedArrayElementRangeCounts_30-40_Count  \\\n",
       "0                                            0.0   \n",
       "1                                            0.0   \n",
       "2                                            0.0   \n",
       "3                                            0.0   \n",
       "4                                            0.0   \n",
       "\n",
       "   AstGroupedArrayElementRangeCounts_30-40_Percent  ...  \\\n",
       "0                                              0.0  ...   \n",
       "1                                              0.0  ...   \n",
       "2                                              0.0  ...   \n",
       "3                                              0.0  ...   \n",
       "4                                              0.0  ...   \n",
       "\n",
       "   AstVariableNameMetrics_Length_Range  AstVariableNameMetrics_Length_Total  \\\n",
       "0                                  0.0                                 14.0   \n",
       "1                                  7.0                                 36.0   \n",
       "2                                  0.0                                 14.0   \n",
       "3                                  4.0                                 16.0   \n",
       "4                                  0.0                                  0.0   \n",
       "\n",
       "   AstVariableNameMetrics_UpperAlphaPercent_Average  \\\n",
       "0                                          0.285714   \n",
       "1                                          0.169643   \n",
       "2                                          0.000000   \n",
       "3                                          0.000000   \n",
       "4                                          0.000000   \n",
       "\n",
       "   AstVariableNameMetrics_UpperAlphaPercent_Maximum  \\\n",
       "0                                          0.285714   \n",
       "1                                          0.250000   \n",
       "2                                          0.000000   \n",
       "3                                          0.000000   \n",
       "4                                          0.000000   \n",
       "\n",
       "   AstVariableNameMetrics_UpperAlphaPercent_Median  \\\n",
       "0                                         0.285714   \n",
       "1                                         0.142857   \n",
       "2                                         0.000000   \n",
       "3                                         0.000000   \n",
       "4                                         0.000000   \n",
       "\n",
       "   AstVariableNameMetrics_UpperAlphaPercent_Minimum  \\\n",
       "0                                          0.285714   \n",
       "1                                          0.142857   \n",
       "2                                          0.000000   \n",
       "3                                          0.000000   \n",
       "4                                          0.000000   \n",
       "\n",
       "   AstVariableNameMetrics_UpperAlphaPercent_Mode  \\\n",
       "0                                       0.285714   \n",
       "1                                       0.142857   \n",
       "2                                       0.000000   \n",
       "3                                       0.000000   \n",
       "4                                       0.000000   \n",
       "\n",
       "   AstVariableNameMetrics_UpperAlphaPercent_Range  obfuscated  \\\n",
       "0                                        0.000000           0   \n",
       "1                                        0.107143           0   \n",
       "2                                        0.000000           0   \n",
       "3                                        0.000000           0   \n",
       "4                                        0.000000           0   \n",
       "\n",
       "   obf_methods_combination_number  \n",
       "0                               0  \n",
       "1                               0  \n",
       "2                               0  \n",
       "3                               0  \n",
       "4                               0  \n",
       "\n",
       "[5 rows x 2712 columns]"
      ]
     },
     "execution_count": 4,
     "metadata": {},
     "output_type": "execute_result"
    }
   ],
   "source": [
    "print(obfuscated_commands.shape)\n",
    "obfuscated_commands.head()"
   ]
  },
  {
   "cell_type": "code",
   "execution_count": 5,
   "id": "caa368c3",
   "metadata": {},
   "outputs": [],
   "source": [
    "def get_X_y(dataframe: pd.DataFrame) -> tuple[pd.DataFrame, pd.Series]:\n",
    "    start_features_index, end_features_index = 2, -3  # both are included\n",
    "    label: str = \"obfuscated\"\n",
    "    \n",
    "    X: pd.DataFrame = dataframe.iloc[:, start_features_index:end_features_index + 1]\n",
    "    y: pd.Series = dataframe[label]\n",
    "    \n",
    "    return X, y"
   ]
  },
  {
   "cell_type": "code",
   "execution_count": 14,
   "id": "d0b90160",
   "metadata": {},
   "outputs": [],
   "source": [
    "def scale_MinMax(X: pd.DataFrame) -> pd.DataFrame:\n",
    "    scaler: MinMaxScaler = MinMaxScaler()\n",
    "    X_scaled_values: np.ndarray = scaler.fit_transform(X)\n",
    "    X_scaled: pd.DataFrame = pd.DataFrame(X_scaled_values, columns=X.columns)\n",
    "    return X_scaled"
   ]
  },
  {
   "cell_type": "code",
   "execution_count": 7,
   "id": "e47203e7",
   "metadata": {},
   "outputs": [],
   "source": [
    "def get_train_valid_test_data(X: pd.DataFrame, y: pd.Series, valid_size: float = 0.2, test_size: float = 0.2) -> dict[str, tuple[pd.DataFrame, pd.Series]]:    \n",
    "    def get_train_test_data(X: pd.DataFrame, y: pd.Series, test_size: float) -> tuple[pd.DataFrame, pd.DataFrame, pd.Series, pd.Series]:\n",
    "        X_train, X_test, y_train, y_test = train_test_split(X, y, test_size=test_size, random_state=42, shuffle=True)\n",
    "        return X_train, X_test, y_train, y_test\n",
    "    \n",
    "    data: dict[str, tuple[pd.DataFrame, pd.Series]] = dict()\n",
    "    \n",
    "    X_train, X_test, y_train, y_test = get_train_test_data(X, y, test_size=test_size + valid_size)\n",
    "    X_valid, X_test, y_valid, y_test = get_train_test_data(X_test, y_test, test_size=test_size / (test_size + valid_size))\n",
    "    \n",
    "    data[\"train\"], data[\"valid\"], data[\"test\"] = (X_train, y_train), (X_valid, y_valid), (X_test, y_test)\n",
    "    return data"
   ]
  },
  {
   "cell_type": "code",
   "execution_count": 15,
   "id": "6305a135",
   "metadata": {},
   "outputs": [],
   "source": [
    "# get separately features and labels and scale features\n",
    "X, y = get_X_y(obfuscated_commands)\n",
    "X_scaled: pd.DataFrame = scale_MinMax(X)"
   ]
  },
  {
   "cell_type": "code",
   "execution_count": 18,
   "id": "21ed4767",
   "metadata": {},
   "outputs": [],
   "source": [
    "# train test split\n",
    "divided_data: dict[str, tuple[pd.DataFrame, pd.Series]] = get_train_valid_test_data(X_scaled, y)\n",
    "    \n",
    "X_train, y_train = divided_data.get('train', [None, None])\n",
    "X_valid, y_valid = divided_data.get('valid', [None, None])\n",
    "X_test, y_test = divided_data.get('test', [None, None])"
   ]
  },
  {
   "cell_type": "code",
   "execution_count": 19,
   "id": "893ac6ab",
   "metadata": {
    "scrolled": false
   },
   "outputs": [
    {
     "name": "stdout",
     "output_type": "stream",
     "text": [
      "0.6\n",
      "0.2\n",
      "0.2\n"
     ]
    }
   ],
   "source": [
    "for y_data in [y_train, y_valid, y_test]:\n",
    "    print(np.round(len(y_data) / len(y), 2))"
   ]
  },
  {
   "cell_type": "code",
   "execution_count": 21,
   "id": "d464dffc",
   "metadata": {},
   "outputs": [],
   "source": [
    "# save the data with column with initial object's indexes\n",
    "all_filenames: tuple[str, ...] = (TRAIN_FEATURES_FILENAME, VALIDATE_FEATURES_FILENAME, TEST_FEATURES_FILENAME, TRAIN_LABELS_FILENAME, VALIDATE_LABELS_FILENAME, TEST_LABELS_FILENAME)\n",
    "\n",
    "for data, filename in zip((X_train, X_valid, X_test, y_train, y_valid, y_test), all_filenames):\n",
    "    data.to_csv(filename, index=False)"
   ]
  },
  {
   "cell_type": "markdown",
   "id": "c47a2565",
   "metadata": {},
   "source": [
    "## Cross Validation"
   ]
  },
  {
   "cell_type": "code",
   "execution_count": 4,
   "id": "02145bbb",
   "metadata": {},
   "outputs": [],
   "source": [
    "# load divided data into train, validate, test\n",
    "\n",
    "train_features: pd.DataFrame = pd.read_csv(TRAIN_FEATURES_FILENAME)\n",
    "train_labels: pd.Series = pd.read_csv(TRAIN_LABELS_FILENAME)\n",
    "    \n",
    "validate_features: pd.DataFrame = pd.read_csv(VALIDATE_FEATURES_FILENAME)\n",
    "validate_labels: pd.Series = pd.read_csv(VALIDATE_LABELS_FILENAME)\n",
    "    \n",
    "test_features: pd.DataFrame = pd.read_csv(TEST_FEATURES_FILENAME)\n",
    "test_labels: pd.Series = pd.read_csv(TEST_LABELS_FILENAME)"
   ]
  },
  {
   "cell_type": "markdown",
   "id": "a700c274",
   "metadata": {},
   "source": [
    "### Multinomial Naive Bayes"
   ]
  },
  {
   "cell_type": "code",
   "execution_count": 5,
   "id": "7edc848a",
   "metadata": {},
   "outputs": [],
   "source": [
    "mnb: MultinomialNB = MultinomialNB()\n",
    "\n",
    "scores_mnb: np.ndarray[float] = cross_val_score(estimator=mnb, X=train_features, y=train_labels.values.ravel(), n_jobs=-1, cv=5)"
   ]
  },
  {
   "cell_type": "code",
   "execution_count": 6,
   "id": "bcfba913",
   "metadata": {},
   "outputs": [
    {
     "name": "stdout",
     "output_type": "stream",
     "text": [
      "[0.92468944 0.8989899  0.92229992 0.92463092 0.9013209 ]\n"
     ]
    },
    {
     "data": {
      "text/plain": [
       "0.9143862176470872"
      ]
     },
     "execution_count": 6,
     "metadata": {},
     "output_type": "execute_result"
    }
   ],
   "source": [
    "print(scores_mnb)\n",
    "scores_mnb.mean()"
   ]
  },
  {
   "cell_type": "markdown",
   "id": "4fea39a2",
   "metadata": {},
   "source": [
    "### Gaussian Naive Bayes"
   ]
  },
  {
   "cell_type": "code",
   "execution_count": 7,
   "id": "3cba4697",
   "metadata": {},
   "outputs": [],
   "source": [
    "gnb: GaussianNB = GaussianNB()\n",
    "\n",
    "scores_gnb: np.ndarray[float] = cross_val_score(estimator=gnb, X=train_features, y=train_labels.values.ravel(), n_jobs=-1, cv=5)"
   ]
  },
  {
   "cell_type": "code",
   "execution_count": 8,
   "id": "fddb8d98",
   "metadata": {},
   "outputs": [
    {
     "name": "stdout",
     "output_type": "stream",
     "text": [
      "[0.98602484 0.98756799 0.98290598 0.98834499 0.97902098]\n"
     ]
    },
    {
     "data": {
      "text/plain": [
       "0.9847729565120869"
      ]
     },
     "execution_count": 8,
     "metadata": {},
     "output_type": "execute_result"
    }
   ],
   "source": [
    "print(scores_gnb)\n",
    "scores_gnb.mean()"
   ]
  },
  {
   "cell_type": "markdown",
   "id": "6f661e85",
   "metadata": {},
   "source": [
    "## Hyperparameter tuning"
   ]
  },
  {
   "cell_type": "code",
   "execution_count": 9,
   "id": "903258c7",
   "metadata": {},
   "outputs": [],
   "source": [
    "def show_tuning_result(cross_val_result: GridSearchCV) -> None:\n",
    "    print(f\"Optimal Hyperparams: {cross_val_result.best_params_}\\n\")\n",
    "    means: np.ndarray[float] = cross_val_result.cv_results_[\"mean_test_score\"]\n",
    "    stds: np.ndarray[float] = cross_val_result.cv_results_[\"std_test_score\"]\n",
    "    params_combinatons: np.ndarray[dict[str, any]] = cross_val_result.cv_results_[\"params\"]\n",
    "    \n",
    "    for mean, std, params in zip(means, stds, params_combinatons):\n",
    "        print(f\"Mean: {np.round(mean, 5)} || Standard deviation: {np.round(std, 5)} || Hyperparameters: {params}\")"
   ]
  },
  {
   "cell_type": "markdown",
   "id": "8964bb05",
   "metadata": {},
   "source": [
    "### Multinomial Naive Bayes"
   ]
  },
  {
   "cell_type": "code",
   "execution_count": 10,
   "id": "fcc20cef",
   "metadata": {},
   "outputs": [
    {
     "name": "stdout",
     "output_type": "stream",
     "text": [
      "Fitting 5 folds for each of 8 candidates, totalling 40 fits\n"
     ]
    }
   ],
   "source": [
    "mnb: MultinomialNB = MultinomialNB()\n",
    "    \n",
    "hyperparams_mnb: dict[str, any] = {\n",
    "    'alpha': [0.00001, 0.0001, 0.001, 0.1, 1, 10, 100,1000],\n",
    "}\n",
    "\n",
    "cross_val_mnb: GridSearchCV = GridSearchCV(mnb, hyperparams_mnb, cv=5, n_jobs=-1, verbose=2)\n",
    "cross_val_mnb.fit(train_features, train_labels.values.ravel());"
   ]
  },
  {
   "cell_type": "code",
   "execution_count": 11,
   "id": "4b4f940b",
   "metadata": {},
   "outputs": [
    {
     "name": "stdout",
     "output_type": "stream",
     "text": [
      "Optimal Hyperparams: {'alpha': 1e-05}\n",
      "\n",
      "Mean: 0.91749 || Standard deviation: 0.00991 || Hyperparameters: {'alpha': 1e-05}\n",
      "Mean: 0.91718 || Standard deviation: 0.01023 || Hyperparameters: {'alpha': 0.0001}\n",
      "Mean: 0.91672 || Standard deviation: 0.01082 || Hyperparameters: {'alpha': 0.001}\n",
      "Mean: 0.91578 || Standard deviation: 0.01132 || Hyperparameters: {'alpha': 0.1}\n",
      "Mean: 0.91439 || Standard deviation: 0.01167 || Hyperparameters: {'alpha': 1}\n",
      "Mean: 0.91377 || Standard deviation: 0.01125 || Hyperparameters: {'alpha': 10}\n",
      "Mean: 0.91252 || Standard deviation: 0.01106 || Hyperparameters: {'alpha': 100}\n",
      "Mean: 0.91097 || Standard deviation: 0.0111 || Hyperparameters: {'alpha': 1000}\n"
     ]
    }
   ],
   "source": [
    "show_tuning_result(cross_val_mnb)"
   ]
  },
  {
   "cell_type": "code",
   "execution_count": 12,
   "id": "95c9fecf",
   "metadata": {},
   "outputs": [],
   "source": [
    "mnb1: MultinomialNB = MultinomialNB(alpha=1e-05)\n",
    "mnb1.fit(train_features, train_labels.values.ravel())\n",
    "\n",
    "mnb2: MultinomialNB = MultinomialNB(alpha=0.0001)\n",
    "mnb2.fit(train_features, train_labels.values.ravel())\n",
    "\n",
    "mnb3: MultinomialNB = MultinomialNB(alpha=0.001)\n",
    "mnb3.fit(train_features, train_labels.values.ravel());"
   ]
  },
  {
   "cell_type": "markdown",
   "id": "34dd53cc",
   "metadata": {},
   "source": [
    "### Gaussian Naive Bayes"
   ]
  },
  {
   "cell_type": "code",
   "execution_count": 13,
   "id": "e40d003d",
   "metadata": {},
   "outputs": [
    {
     "name": "stdout",
     "output_type": "stream",
     "text": [
      "Fitting 5 folds for each of 10 candidates, totalling 50 fits\n"
     ]
    }
   ],
   "source": [
    "gnb: MultinomialNB = GaussianNB()\n",
    "    \n",
    "hyperparams_gnb: dict[str, any] = {\n",
    "    'var_smoothing': np.logspace(0,-9, num=10),\n",
    "}\n",
    "\n",
    "cross_val_gnb: GridSearchCV = GridSearchCV(gnb, hyperparams_gnb, cv=5, n_jobs=-1, verbose=2)\n",
    "cross_val_gnb.fit(train_features, train_labels.values.ravel());"
   ]
  },
  {
   "cell_type": "code",
   "execution_count": 14,
   "id": "93be5216",
   "metadata": {},
   "outputs": [
    {
     "name": "stdout",
     "output_type": "stream",
     "text": [
      "Optimal Hyperparams: {'var_smoothing': 1e-05}\n",
      "\n",
      "Mean: 0.70649 || Standard deviation: 0.00737 || Hyperparameters: {'var_smoothing': 1.0}\n",
      "Mean: 0.87663 || Standard deviation: 0.01062 || Hyperparameters: {'var_smoothing': 0.1}\n",
      "Mean: 0.90211 || Standard deviation: 0.01047 || Hyperparameters: {'var_smoothing': 0.01}\n",
      "Mean: 0.92946 || Standard deviation: 0.00376 || Hyperparameters: {'var_smoothing': 0.001}\n",
      "Mean: 0.98477 || Standard deviation: 0.00239 || Hyperparameters: {'var_smoothing': 0.0001}\n",
      "Mean: 0.98586 || Standard deviation: 0.00211 || Hyperparameters: {'var_smoothing': 1e-05}\n",
      "Mean: 0.98571 || Standard deviation: 0.00181 || Hyperparameters: {'var_smoothing': 1e-06}\n",
      "Mean: 0.98524 || Standard deviation: 0.0022 || Hyperparameters: {'var_smoothing': 1e-07}\n",
      "Mean: 0.98524 || Standard deviation: 0.0022 || Hyperparameters: {'var_smoothing': 1e-08}\n",
      "Mean: 0.98477 || Standard deviation: 0.00343 || Hyperparameters: {'var_smoothing': 1e-09}\n"
     ]
    }
   ],
   "source": [
    "show_tuning_result(cross_val_gnb)"
   ]
  },
  {
   "cell_type": "code",
   "execution_count": 15,
   "id": "2b90d8c8",
   "metadata": {},
   "outputs": [],
   "source": [
    "gnb1: GaussianNB = GaussianNB(var_smoothing=1e-05)\n",
    "gnb1.fit(train_features, train_labels.values.ravel())\n",
    "\n",
    "gnb2: GaussianNB = GaussianNB(var_smoothing=1e-06)\n",
    "gnb2.fit(train_features, train_labels.values.ravel())\n",
    "\n",
    "gnb3: GaussianNB = GaussianNB(var_smoothing=1e-07)\n",
    "gnb3.fit(train_features, train_labels.values.ravel());"
   ]
  },
  {
   "cell_type": "markdown",
   "id": "c84bf208",
   "metadata": {},
   "source": [
    "## Model Evaluation"
   ]
  },
  {
   "cell_type": "code",
   "execution_count": 16,
   "id": "93d5b7e4",
   "metadata": {},
   "outputs": [],
   "source": [
    "def show_score(model, features: pd.DataFrame, y_true: pd.Series) -> None:\n",
    "    y_pred: np.ndarray = model.predict(features)\n",
    "        \n",
    "    accuracy: float = np.round(accuracy_score(y_true=y_true, y_pred=y_pred), 5)  # true predictions / all predictions\n",
    "    precision: float = np.round(precision_score(y_true=y_true, y_pred=y_pred), 5)  # true positive predictions / all positive predictions\n",
    "    recall: float = np.round(recall_score(y_true=y_true, y_pred=y_pred), 5)  # true positive predictions / all positive labels\n",
    "        \n",
    "    print(f\"Model: {model} || Accuracy: {accuracy} || Precision: {precision} || Recall: {recall}\")"
   ]
  },
  {
   "cell_type": "markdown",
   "id": "f07a1a7d",
   "metadata": {},
   "source": [
    "### Multinomial Naive Bayes"
   ]
  },
  {
   "cell_type": "code",
   "execution_count": 17,
   "id": "187328e8",
   "metadata": {},
   "outputs": [
    {
     "name": "stdout",
     "output_type": "stream",
     "text": [
      "Model: MultinomialNB(alpha=1e-05) || Accuracy: 0.90261 || Precision: 0.98739 || Recall: 0.81303\n",
      "Model: MultinomialNB(alpha=0.0001) || Accuracy: 0.90214 || Precision: 0.98737 || Recall: 0.81209\n",
      "Model: MultinomialNB(alpha=0.001) || Accuracy: 0.90214 || Precision: 0.98737 || Recall: 0.81209\n"
     ]
    }
   ],
   "source": [
    "# score three the best MultinomialNB models with different hyperparametes on the validate data\n",
    "\n",
    "for model in (mnb1, mnb2, mnb3):\n",
    "    show_score(model, features=validate_features, y_true=validate_labels)"
   ]
  },
  {
   "cell_type": "code",
   "execution_count": 18,
   "id": "acf19e7b",
   "metadata": {},
   "outputs": [
    {
     "name": "stdout",
     "output_type": "stream",
     "text": [
      "Model: MultinomialNB(alpha=1e-05) || Accuracy: 0.9068 || Precision: 0.99101 || Recall: 0.82123\n"
     ]
    }
   ],
   "source": [
    "# choose mnb1 model and score on the test data\n",
    "\n",
    "show_score(model=mnb1, features=test_features, y_true=test_labels)"
   ]
  },
  {
   "cell_type": "markdown",
   "id": "da13ea14",
   "metadata": {},
   "source": [
    "### Gaussian Naive Bayes"
   ]
  },
  {
   "cell_type": "code",
   "execution_count": 19,
   "id": "e265fe7b",
   "metadata": {},
   "outputs": [
    {
     "name": "stdout",
     "output_type": "stream",
     "text": [
      "Model: GaussianNB(var_smoothing=1e-05) || Accuracy: 0.98649 || Precision: 0.98954 || Recall: 0.983\n",
      "Model: GaussianNB(var_smoothing=1e-06) || Accuracy: 0.98742 || Precision: 0.99049 || Recall: 0.98395\n",
      "Model: GaussianNB(var_smoothing=1e-07) || Accuracy: 0.98695 || Precision: 0.99049 || Recall: 0.983\n"
     ]
    }
   ],
   "source": [
    "# score three the best GaussianNB models with different hyperparametes on the validate data\n",
    "\n",
    "for model in (gnb1, gnb2, gnb3):\n",
    "    show_score(model, features=validate_features, y_true=validate_labels)"
   ]
  },
  {
   "cell_type": "code",
   "execution_count": 20,
   "id": "44640779",
   "metadata": {},
   "outputs": [
    {
     "name": "stdout",
     "output_type": "stream",
     "text": [
      "Model: GaussianNB(var_smoothing=1e-06) || Accuracy: 0.98276 || Precision: 0.98777 || Recall: 0.97765\n"
     ]
    }
   ],
   "source": [
    "# choose gnb2 model and score on the test data\n",
    "\n",
    "show_score(model=gnb2, features=test_features, y_true=test_labels)"
   ]
  },
  {
   "cell_type": "markdown",
   "id": "48245c6a",
   "metadata": {},
   "source": [
    "## Saving models"
   ]
  },
  {
   "cell_type": "code",
   "execution_count": 25,
   "id": "434f02cf",
   "metadata": {},
   "outputs": [],
   "source": [
    "def save_model(model, pkl_filename: str) -> bool:\n",
    "    try:\n",
    "        with open(pkl_filename, 'wb') as file:\n",
    "            pickle.dump(model, file=file)\n",
    "    except:\n",
    "        return False\n",
    "    return True"
   ]
  },
  {
   "cell_type": "code",
   "execution_count": 21,
   "id": "68258c3c",
   "metadata": {},
   "outputs": [],
   "source": [
    "# declare pkl filenames\n",
    "\n",
    "mnb_filename: str = r\"D:\\Obfuscation\\models\\MultinomialNB_model.pkl\"\n",
    "gnb_filename: str = r\"D:\\Obfuscation\\models\\GaussianNB_model.pkl\""
   ]
  },
  {
   "cell_type": "code",
   "execution_count": 26,
   "id": "0b010866",
   "metadata": {},
   "outputs": [
    {
     "name": "stdout",
     "output_type": "stream",
     "text": [
      "For model MultinomialNB(alpha=1e-05) saving to file D:\\Obfuscation\\models\\MultinomialNB_model.pkl was successful!\n",
      "For model GaussianNB(var_smoothing=1e-06) saving to file D:\\Obfuscation\\models\\GaussianNB_model.pkl was successful!\n"
     ]
    }
   ],
   "source": [
    "models = (mnb1, gnb2)\n",
    "filenames: tuple[str, ...] = (mnb_filename, gnb_filename)\n",
    "    \n",
    "for model, filename in zip(models, filenames):\n",
    "    saving_result: bool = save_model(model=model, pkl_filename=filename)\n",
    "    print(f\"For model {model} saving to file {filename} was {'successful!' if saving_result else 'failed :|'}\")"
   ]
  },
  {
   "cell_type": "code",
   "execution_count": null,
   "id": "70443ede",
   "metadata": {},
   "outputs": [],
   "source": []
  }
 ],
 "metadata": {
  "kernelspec": {
   "display_name": "Python 3 (ipykernel)",
   "language": "python",
   "name": "python3"
  },
  "language_info": {
   "codemirror_mode": {
    "name": "ipython",
    "version": 3
   },
   "file_extension": ".py",
   "mimetype": "text/x-python",
   "name": "python",
   "nbconvert_exporter": "python",
   "pygments_lexer": "ipython3",
   "version": "3.9.16"
  }
 },
 "nbformat": 4,
 "nbformat_minor": 5
}

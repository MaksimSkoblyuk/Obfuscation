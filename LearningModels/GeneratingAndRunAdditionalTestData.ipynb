{
 "cells": [
  {
   "cell_type": "code",
   "execution_count": 1,
   "id": "57ee8912",
   "metadata": {},
   "outputs": [],
   "source": [
    "# import libraries\n",
    "\n",
    "import numpy as np\n",
    "import pandas as pd\n",
    "import pickle\n",
    "\n",
    "from sklearn.base import BaseEstimator, TransformerMixin\n",
    "from sklearn.preprocessing import MinMaxScaler\n",
    "from sklearn.pipeline import Pipeline"
   ]
  },
  {
   "cell_type": "code",
   "execution_count": 2,
   "id": "0c2955be",
   "metadata": {},
   "outputs": [],
   "source": [
    "# defining paths to files\n",
    "\n",
    "ORIGINAL_TOKENIZER_DATASET_FILENAME: str = r\"D:\\Obfuscation\\data\\datasets\\TOKENIZER_DATASET.csv\"\n",
    "TOKENIZER_DATASET_FILENAME: str = r\"D:\\Obfuscation\\data\\datasets\\TOKENIZER_DATASET_WITH_SHORT_CLEAR_COMMANDS.csv\"\n",
    "TRAIN_DATASET_FILENAME: str = r\"D:\\Obfuscation\\data\\datasets\\balanced\\BALANCED_DATASET_770_WITHOUT_CMD.csv\""
   ]
  },
  {
   "cell_type": "code",
   "execution_count": 3,
   "id": "2e936646",
   "metadata": {},
   "outputs": [],
   "source": [
    "# import datasets\n",
    "\n",
    "original_tokenizer_df: pd.DataFrame = pd.read_csv(ORIGINAL_TOKENIZER_DATASET_FILENAME)\n",
    "tokenizer_df: pd.DataFrame = pd.read_csv(TOKENIZER_DATASET_FILENAME)\n",
    "train_df: pd.DataFrame = pd.read_csv(TRAIN_DATASET_FILENAME)"
   ]
  },
  {
   "cell_type": "code",
   "execution_count": 4,
   "id": "d814080e",
   "metadata": {},
   "outputs": [],
   "source": [
    "def show_info(dataframe: pd.DataFrame) -> None:\n",
    "    \"\"\"printing some characteristics about dataframe\"\"\"\n",
    "    print(dataframe.shape)\n",
    "    print(dataframe.head())"
   ]
  },
  {
   "cell_type": "code",
   "execution_count": 5,
   "id": "dc5f9bd1",
   "metadata": {},
   "outputs": [
    {
     "name": "stdout",
     "output_type": "stream",
     "text": [
      "(29730, 2712)\n",
      "   index_in_powershell_dataset  \\\n",
      "0                            0   \n",
      "1                            1   \n",
      "2                            2   \n",
      "3                            3   \n",
      "4                            4   \n",
      "\n",
      "                                  command_obfuscated  \\\n",
      "0                                    $PSVersionTable   \n",
      "1  $UserCredential = Get-Credential $Session = Ne...   \n",
      "2  $members = Import-CSV c:itadd-to-group.csv | S...   \n",
      "3  $os = Get-WmiObject win32_operatingsystem $upt...   \n",
      "4  Add-ADGroupMember -Identity group-name -Member...   \n",
      "\n",
      "   AstGroupedArrayElementRangeCounts_0-10_Count  \\\n",
      "0                                           0.0   \n",
      "1                                           0.0   \n",
      "2                                           0.0   \n",
      "3                                           0.0   \n",
      "4                                           1.0   \n",
      "\n",
      "   AstGroupedArrayElementRangeCounts_0-10_Percent  \\\n",
      "0                                             0.0   \n",
      "1                                             0.0   \n",
      "2                                             0.0   \n",
      "3                                             0.0   \n",
      "4                                           100.0   \n",
      "\n",
      "   AstGroupedArrayElementRangeCounts_10-20_Count  \\\n",
      "0                                            0.0   \n",
      "1                                            0.0   \n",
      "2                                            0.0   \n",
      "3                                            0.0   \n",
      "4                                            0.0   \n",
      "\n",
      "   AstGroupedArrayElementRangeCounts_10-20_Percent  \\\n",
      "0                                              0.0   \n",
      "1                                              0.0   \n",
      "2                                              0.0   \n",
      "3                                              0.0   \n",
      "4                                              0.0   \n",
      "\n",
      "   AstGroupedArrayElementRangeCounts_20-30_Count  \\\n",
      "0                                            0.0   \n",
      "1                                            0.0   \n",
      "2                                            0.0   \n",
      "3                                            0.0   \n",
      "4                                            0.0   \n",
      "\n",
      "   AstGroupedArrayElementRangeCounts_20-30_Percent  \\\n",
      "0                                              0.0   \n",
      "1                                              0.0   \n",
      "2                                              0.0   \n",
      "3                                              0.0   \n",
      "4                                              0.0   \n",
      "\n",
      "   AstGroupedArrayElementRangeCounts_30-40_Count  \\\n",
      "0                                            0.0   \n",
      "1                                            0.0   \n",
      "2                                            0.0   \n",
      "3                                            0.0   \n",
      "4                                            0.0   \n",
      "\n",
      "   AstGroupedArrayElementRangeCounts_30-40_Percent  ...  \\\n",
      "0                                              0.0  ...   \n",
      "1                                              0.0  ...   \n",
      "2                                              0.0  ...   \n",
      "3                                              0.0  ...   \n",
      "4                                              0.0  ...   \n",
      "\n",
      "   AstVariableNameMetrics_Length_Range  AstVariableNameMetrics_Length_Total  \\\n",
      "0                                  0.0                                 14.0   \n",
      "1                                  7.0                                 36.0   \n",
      "2                                  0.0                                 14.0   \n",
      "3                                  4.0                                 16.0   \n",
      "4                                  0.0                                  0.0   \n",
      "\n",
      "   AstVariableNameMetrics_UpperAlphaPercent_Average  \\\n",
      "0                                          0.285714   \n",
      "1                                          0.169643   \n",
      "2                                          0.000000   \n",
      "3                                          0.000000   \n",
      "4                                          0.000000   \n",
      "\n",
      "   AstVariableNameMetrics_UpperAlphaPercent_Maximum  \\\n",
      "0                                          0.285714   \n",
      "1                                          0.250000   \n",
      "2                                          0.000000   \n",
      "3                                          0.000000   \n",
      "4                                          0.000000   \n",
      "\n",
      "   AstVariableNameMetrics_UpperAlphaPercent_Median  \\\n",
      "0                                         0.285714   \n",
      "1                                         0.142857   \n",
      "2                                         0.000000   \n",
      "3                                         0.000000   \n",
      "4                                         0.000000   \n",
      "\n",
      "   AstVariableNameMetrics_UpperAlphaPercent_Minimum  \\\n",
      "0                                          0.285714   \n",
      "1                                          0.142857   \n",
      "2                                          0.000000   \n",
      "3                                          0.000000   \n",
      "4                                          0.000000   \n",
      "\n",
      "   AstVariableNameMetrics_UpperAlphaPercent_Mode  \\\n",
      "0                                       0.285714   \n",
      "1                                       0.142857   \n",
      "2                                       0.000000   \n",
      "3                                       0.000000   \n",
      "4                                       0.000000   \n",
      "\n",
      "   AstVariableNameMetrics_UpperAlphaPercent_Range  obfuscated  \\\n",
      "0                                        0.000000           0   \n",
      "1                                        0.107143           0   \n",
      "2                                        0.000000           0   \n",
      "3                                        0.000000           0   \n",
      "4                                        0.000000           0   \n",
      "\n",
      "   obf_methods_combination_number  \n",
      "0                               0  \n",
      "1                               0  \n",
      "2                               0  \n",
      "3                               0  \n",
      "4                               0  \n",
      "\n",
      "[5 rows x 2712 columns]\n"
     ]
    }
   ],
   "source": [
    "show_info(tokenizer_df)"
   ]
  },
  {
   "cell_type": "code",
   "execution_count": 6,
   "id": "1a7ffdef",
   "metadata": {},
   "outputs": [
    {
     "name": "stdout",
     "output_type": "stream",
     "text": [
      "(10728, 2712)\n",
      "   index_in_powershell_dataset  \\\n",
      "0                            0   \n",
      "1                            1   \n",
      "2                            2   \n",
      "3                            3   \n",
      "4                            4   \n",
      "\n",
      "                                  command_obfuscated  \\\n",
      "0                                    $PSVersionTable   \n",
      "1  $UserCredential = Get-Credential $Session = Ne...   \n",
      "2  $members = Import-CSV c:itadd-to-group.csv | S...   \n",
      "3  $os = Get-WmiObject win32_operatingsystem $upt...   \n",
      "4  Add-ADGroupMember -Identity group-name -Member...   \n",
      "\n",
      "   AstGroupedArrayElementRangeCounts_0-10_Count  \\\n",
      "0                                           0.0   \n",
      "1                                           0.0   \n",
      "2                                           0.0   \n",
      "3                                           0.0   \n",
      "4                                           1.0   \n",
      "\n",
      "   AstGroupedArrayElementRangeCounts_0-10_Percent  \\\n",
      "0                                             0.0   \n",
      "1                                             0.0   \n",
      "2                                             0.0   \n",
      "3                                             0.0   \n",
      "4                                           100.0   \n",
      "\n",
      "   AstGroupedArrayElementRangeCounts_10-20_Count  \\\n",
      "0                                            0.0   \n",
      "1                                            0.0   \n",
      "2                                            0.0   \n",
      "3                                            0.0   \n",
      "4                                            0.0   \n",
      "\n",
      "   AstGroupedArrayElementRangeCounts_10-20_Percent  \\\n",
      "0                                              0.0   \n",
      "1                                              0.0   \n",
      "2                                              0.0   \n",
      "3                                              0.0   \n",
      "4                                              0.0   \n",
      "\n",
      "   AstGroupedArrayElementRangeCounts_20-30_Count  \\\n",
      "0                                            0.0   \n",
      "1                                            0.0   \n",
      "2                                            0.0   \n",
      "3                                            0.0   \n",
      "4                                            0.0   \n",
      "\n",
      "   AstGroupedArrayElementRangeCounts_20-30_Percent  \\\n",
      "0                                              0.0   \n",
      "1                                              0.0   \n",
      "2                                              0.0   \n",
      "3                                              0.0   \n",
      "4                                              0.0   \n",
      "\n",
      "   AstGroupedArrayElementRangeCounts_30-40_Count  \\\n",
      "0                                            0.0   \n",
      "1                                            0.0   \n",
      "2                                            0.0   \n",
      "3                                            0.0   \n",
      "4                                            0.0   \n",
      "\n",
      "   AstGroupedArrayElementRangeCounts_30-40_Percent  ...  \\\n",
      "0                                              0.0  ...   \n",
      "1                                              0.0  ...   \n",
      "2                                              0.0  ...   \n",
      "3                                              0.0  ...   \n",
      "4                                              0.0  ...   \n",
      "\n",
      "   AstVariableNameMetrics_Length_Range  AstVariableNameMetrics_Length_Total  \\\n",
      "0                                  0.0                                 14.0   \n",
      "1                                  7.0                                 36.0   \n",
      "2                                  0.0                                 14.0   \n",
      "3                                  4.0                                 16.0   \n",
      "4                                  0.0                                  0.0   \n",
      "\n",
      "   AstVariableNameMetrics_UpperAlphaPercent_Average  \\\n",
      "0                                          0.285714   \n",
      "1                                          0.169643   \n",
      "2                                          0.000000   \n",
      "3                                          0.000000   \n",
      "4                                          0.000000   \n",
      "\n",
      "   AstVariableNameMetrics_UpperAlphaPercent_Maximum  \\\n",
      "0                                          0.285714   \n",
      "1                                          0.250000   \n",
      "2                                          0.000000   \n",
      "3                                          0.000000   \n",
      "4                                          0.000000   \n",
      "\n",
      "   AstVariableNameMetrics_UpperAlphaPercent_Median  \\\n",
      "0                                         0.285714   \n",
      "1                                         0.142857   \n",
      "2                                         0.000000   \n",
      "3                                         0.000000   \n",
      "4                                         0.000000   \n",
      "\n",
      "   AstVariableNameMetrics_UpperAlphaPercent_Minimum  \\\n",
      "0                                          0.285714   \n",
      "1                                          0.142857   \n",
      "2                                          0.000000   \n",
      "3                                          0.000000   \n",
      "4                                          0.000000   \n",
      "\n",
      "   AstVariableNameMetrics_UpperAlphaPercent_Mode  \\\n",
      "0                                       0.285714   \n",
      "1                                       0.142857   \n",
      "2                                       0.000000   \n",
      "3                                       0.000000   \n",
      "4                                       0.000000   \n",
      "\n",
      "   AstVariableNameMetrics_UpperAlphaPercent_Range  obfuscated  \\\n",
      "0                                        0.000000           0   \n",
      "1                                        0.107143           0   \n",
      "2                                        0.000000           0   \n",
      "3                                        0.000000           0   \n",
      "4                                        0.000000           0   \n",
      "\n",
      "   obf_methods_combination_number  \n",
      "0                               0  \n",
      "1                               0  \n",
      "2                               0  \n",
      "3                               0  \n",
      "4                               0  \n",
      "\n",
      "[5 rows x 2712 columns]\n"
     ]
    }
   ],
   "source": [
    "show_info(train_df)"
   ]
  },
  {
   "cell_type": "code",
   "execution_count": 7,
   "id": "de0db917",
   "metadata": {
    "scrolled": true
   },
   "outputs": [
    {
     "name": "stdout",
     "output_type": "stream",
     "text": [
      "(29730, 5001)\n",
      "                                       command_clear  \\\n",
      "0                                    $PSVersionTable   \n",
      "1  $UserCredential = Get-Credential $Session = Ne...   \n",
      "2  $members = Import-CSV c:itadd-to-group.csv | S...   \n",
      "3  $os = Get-WmiObject win32_operatingsystem $upt...   \n",
      "4  Add-ADGroupMember -Identity group-name -Member...   \n",
      "\n",
      "                                  command_obfuscated  \\\n",
      "0                                    $PSVersionTable   \n",
      "1  $UserCredential = Get-Credential $Session = Ne...   \n",
      "2  $members = Import-CSV c:itadd-to-group.csv | S...   \n",
      "3  $os = Get-WmiObject win32_operatingsystem $upt...   \n",
      "4  Add-ADGroupMember -Identity group-name -Member...   \n",
      "\n",
      "   AstGroupedArrayElementRangeCounts_0-10_Count  \\\n",
      "0                                           0.0   \n",
      "1                                           0.0   \n",
      "2                                           0.0   \n",
      "3                                           0.0   \n",
      "4                                           1.0   \n",
      "\n",
      "   AstGroupedArrayElementRangeCounts_0-10_Percent  \\\n",
      "0                                             0.0   \n",
      "1                                             0.0   \n",
      "2                                             0.0   \n",
      "3                                             0.0   \n",
      "4                                           100.0   \n",
      "\n",
      "   AstGroupedArrayElementRangeCounts_10-20_Count  \\\n",
      "0                                            0.0   \n",
      "1                                            0.0   \n",
      "2                                            0.0   \n",
      "3                                            0.0   \n",
      "4                                            0.0   \n",
      "\n",
      "   AstGroupedArrayElementRangeCounts_10-20_Percent  \\\n",
      "0                                              0.0   \n",
      "1                                              0.0   \n",
      "2                                              0.0   \n",
      "3                                              0.0   \n",
      "4                                              0.0   \n",
      "\n",
      "   AstGroupedArrayElementRangeCounts_20-30_Count  \\\n",
      "0                                            0.0   \n",
      "1                                            0.0   \n",
      "2                                            0.0   \n",
      "3                                            0.0   \n",
      "4                                            0.0   \n",
      "\n",
      "   AstGroupedArrayElementRangeCounts_20-30_Percent  \\\n",
      "0                                              0.0   \n",
      "1                                              0.0   \n",
      "2                                              0.0   \n",
      "3                                              0.0   \n",
      "4                                              0.0   \n",
      "\n",
      "   AstGroupedArrayElementRangeCounts_30-40_Count  \\\n",
      "0                                            0.0   \n",
      "1                                            0.0   \n",
      "2                                            0.0   \n",
      "3                                            0.0   \n",
      "4                                            0.0   \n",
      "\n",
      "   AstGroupedArrayElementRangeCounts_30-40_Percent  ...  \\\n",
      "0                                              0.0  ...   \n",
      "1                                              0.0  ...   \n",
      "2                                              0.0  ...   \n",
      "3                                              0.0  ...   \n",
      "4                                              0.0  ...   \n",
      "\n",
      "   AstVariableNameMetrics_Length_Mode  AstVariableNameMetrics_Length_Range  \\\n",
      "0                                14.0                                  0.0   \n",
      "1                                 7.0                                  7.0   \n",
      "2                                 7.0                                  0.0   \n",
      "3                                 2.0                                  4.0   \n",
      "4                                 0.0                                  0.0   \n",
      "\n",
      "   AstVariableNameMetrics_Length_Total  \\\n",
      "0                                 14.0   \n",
      "1                                 36.0   \n",
      "2                                 14.0   \n",
      "3                                 16.0   \n",
      "4                                  0.0   \n",
      "\n",
      "   AstVariableNameMetrics_UpperAlphaPercent_Average  \\\n",
      "0                                          0.285714   \n",
      "1                                          0.169643   \n",
      "2                                          0.000000   \n",
      "3                                          0.000000   \n",
      "4                                          0.000000   \n",
      "\n",
      "   AstVariableNameMetrics_UpperAlphaPercent_Maximum  \\\n",
      "0                                          0.285714   \n",
      "1                                          0.250000   \n",
      "2                                          0.000000   \n",
      "3                                          0.000000   \n",
      "4                                          0.000000   \n",
      "\n",
      "   AstVariableNameMetrics_UpperAlphaPercent_Median  \\\n",
      "0                                         0.285714   \n",
      "1                                         0.142857   \n",
      "2                                         0.000000   \n",
      "3                                         0.000000   \n",
      "4                                         0.000000   \n",
      "\n",
      "   AstVariableNameMetrics_UpperAlphaPercent_Minimum  \\\n",
      "0                                          0.285714   \n",
      "1                                          0.142857   \n",
      "2                                          0.000000   \n",
      "3                                          0.000000   \n",
      "4                                          0.000000   \n",
      "\n",
      "   AstVariableNameMetrics_UpperAlphaPercent_Mode  \\\n",
      "0                                       0.285714   \n",
      "1                                       0.142857   \n",
      "2                                       0.000000   \n",
      "3                                       0.000000   \n",
      "4                                       0.000000   \n",
      "\n",
      "   AstVariableNameMetrics_UpperAlphaPercent_Range  obfuscated  \n",
      "0                                        0.000000           0  \n",
      "1                                        0.107143           0  \n",
      "2                                        0.000000           0  \n",
      "3                                        0.000000           0  \n",
      "4                                        0.000000           0  \n",
      "\n",
      "[5 rows x 5001 columns]\n"
     ]
    }
   ],
   "source": [
    "show_info(original_tokenizer_df)"
   ]
  },
  {
   "cell_type": "code",
   "execution_count": 8,
   "id": "06d33362",
   "metadata": {},
   "outputs": [],
   "source": [
    "class MakerShortCommandsClear(BaseEstimator, TransformerMixin):\n",
    "    \n",
    "    def __init__(self, tokenizer_df: pd.DataFrame) -> None:\n",
    "        super().__init__()\n",
    "        self.__tokenizer_df: pd.DataFrame = tokenizer_df\n",
    "    \n",
    "    def fit(self, X: pd.DataFrame, y: pd.Series = None) -> \"MakerShortCommandsClear\":\n",
    "        return self\n",
    "    \n",
    "    def transform(self, X: pd.DataFrame) -> pd.DataFrame:\n",
    "        X[\"obfuscated\"] = self.__tokenizer_df[\"obfuscated\"].copy()\n",
    "        return X\n",
    "    \n",
    "    \n",
    "class CommandsEncodingFixer(BaseEstimator, TransformerMixin):\n",
    "    \n",
    "    def __init__(self, tokenizer_df: pd.DataFrame) -> None:\n",
    "        super().__init__()\n",
    "        self.__tokenizer_df: pd.DataFrame = tokenizer_df\n",
    "    \n",
    "    def fit(self, X: pd.DataFrame, y: pd.Series = None) -> \"CommandsEncodingFixer\":\n",
    "        return self\n",
    "    \n",
    "    def transform(self, X: pd.DataFrame) -> pd.DataFrame:\n",
    "        X[\"command_obfuscated\"] = self.__tokenizer_df[\"command_obfuscated\"].copy()\n",
    "        return X\n",
    "    \n",
    "    \n",
    "class TrainObjectsRemover(BaseEstimator, TransformerMixin):\n",
    "    \n",
    "    def __init__(self, tokenizer_df: pd.DataFrame, train_df: pd.DataFrame) -> None:\n",
    "        super().__init__()\n",
    "        self.__tokenizer_df: pd.DataFrame = tokenizer_df\n",
    "        self.__train_df: pd.DataFrame = train_df\n",
    "            \n",
    "    def __get_remaining_objects_indexes(self) -> list[int]:\n",
    "        \"\"\"substruction one dataset from another\"\"\"\n",
    "        tokenizer_indexes, train_indexes = self.__tokenizer_df[\"index_in_powershell_dataset\"], self.__train_df[\"index_in_powershell_dataset\"]  # index in source dataset\n",
    "        train_ptr = result_ptr = 0\n",
    "        remaining_objects_indexes: list[int] = [0] * (len(self.__tokenizer_df) - len(self.__train_df))\n",
    "        for tokenizer_ptr in np.arange(len(self.__tokenizer_df)):\n",
    "            if tokenizer_indexes[tokenizer_ptr] == train_indexes[train_ptr]:\n",
    "                train_ptr += 1\n",
    "            else:\n",
    "                remaining_objects_indexes[result_ptr] = tokenizer_ptr\n",
    "                result_ptr += 1\n",
    "        return remaining_objects_indexes\n",
    "    \n",
    "    def fit(self, X: pd.DataFrame, y: pd.Series = None) -> \"TrainObjectsRemover\":\n",
    "        return self\n",
    "    \n",
    "    def transform(self, X: pd.DataFrame) -> pd.DataFrame:\n",
    "        indexes: list[int] = self.__get_remaining_objects_indexes()\n",
    "        X = X.iloc[indexes, :].reset_index(drop=True)\n",
    "        return X"
   ]
  },
  {
   "cell_type": "code",
   "execution_count": 9,
   "id": "c72451c5",
   "metadata": {},
   "outputs": [],
   "source": [
    "class CommandsDropper(BaseEstimator, TransformerMixin):\n",
    "    \n",
    "    def fit(self, X: pd.DataFrame, y: pd.Series = None) -> \"CommandsDropper\":\n",
    "        return self\n",
    "    \n",
    "    def transform(self, X: pd.DataFrame) -> pd.DataFrame:\n",
    "        return X.drop([\"command_clear\", \"command_obfuscated\"], axis=1)\n",
    "    \n",
    "    \n",
    "class UselessFeaturesDropper(BaseEstimator, TransformerMixin):\n",
    "    \n",
    "    def __init__(self, original_tokenizer_df: pd.DataFrame) -> None:  # receive original tokenizer df because we need the same dimensionality\n",
    "        super().__init__()\n",
    "        self.__original_tokenizer_df: pd.DataFrame = original_tokenizer_df\n",
    "    \n",
    "    def __get_features_to_drop(self) -> list[str]:\n",
    "        features_to_drop: list[str] = [feature for feature in self.__original_tokenizer_df.columns if len(self.__original_tokenizer_df[feature].unique()) == 1]\n",
    "        return features_to_drop        \n",
    "    \n",
    "    def fit(self, X: pd.DataFrame, y: pd.Series = None) -> \"UselessFeaturesDropper\":\n",
    "        return self\n",
    "    \n",
    "    def transform(self, X: pd.DataFrame) -> pd.DataFrame:\n",
    "        features_to_drop: list[str] = self.__get_features_to_drop()\n",
    "        return X.drop(features_to_drop, axis=1)\n",
    "    \n",
    "\n",
    "class TargetValuesDropper(BaseEstimator, TransformerMixin):\n",
    "    \n",
    "    def fit(self, X: pd.DataFrame, y: pd.Series = None) -> \"TargetValuesDropper\":\n",
    "        return self\n",
    "    \n",
    "    def transform(self, X: pd.DataFrame) -> pd.DataFrame:\n",
    "        return X.drop([\"obfuscated\"], axis=1)"
   ]
  },
  {
   "cell_type": "code",
   "execution_count": 10,
   "id": "0e63b8a5",
   "metadata": {},
   "outputs": [],
   "source": [
    "from typing import Union\n",
    "\n",
    "\n",
    "class Selector(BaseEstimator, TransformerMixin):\n",
    "    \n",
    "    def __init__(self, all_commands: pd.Series) -> None:\n",
    "        super().__init__()\n",
    "        self._all_commands: pd.Series = all_commands\n",
    "            \n",
    "    def get_indexes(self) -> list[int]:\n",
    "        pass\n",
    "    \n",
    "    def fit(self, X: pd.DataFrame, y: pd.Series = None) -> \"Selector\":\n",
    "        return self\n",
    "    \n",
    "    def transform(self, X: Union[pd.DataFrame, pd.Series]) -> Union[pd.DataFrame, pd.Series]:\n",
    "        pass\n",
    "\n",
    "class CmdCommandsSelector(Selector):\n",
    "    \n",
    "    def __init__(self, all_commands: pd.Series) -> None:\n",
    "        super().__init__(all_commands)\n",
    "    \n",
    "    def get_indexes(self) -> list[int]:\n",
    "        indexes: list[int] = []\n",
    "        for i, command in enumerate(self._all_commands):\n",
    "            if \"cmd\" not in command:\n",
    "                continue\n",
    "            indexes.append(i)\n",
    "        return indexes\n",
    "    \n",
    "    def transform(self, X: Union[pd.DataFrame, pd.Series]) -> Union[pd.DataFrame, pd.Series]:\n",
    "        indexes: list[int] = self.get_indexes()\n",
    "        return X.iloc[indexes, :].reset_index(drop=True) if type(X) is pd.DataFrame else X[indexes].reset_index(drop=True)\n",
    "    \n",
    "    \n",
    "class PslCommandsSelector(Selector):\n",
    "    \n",
    "    def __init__(self, all_commands: pd.Series) -> None:\n",
    "        super().__init__(all_commands)\n",
    "    \n",
    "    def get_indexes(self) -> list[int]:\n",
    "        cmd_indexes: list[int] = CmdCommandsSelector(self._all_commands).get_indexes()\n",
    "        psl_indexes: list[int] = [0] * (len(self._all_commands) - len(cmd_indexes))\n",
    "        cmd_ptr = psl_ptr = 0\n",
    "        for command_index in np.arange(len(self._all_commands)):   \n",
    "            if command_index == cmd_indexes[cmd_ptr]:\n",
    "                cmd_ptr += 1\n",
    "            else:\n",
    "                psl_indexes[psl_ptr] = command_index\n",
    "                psl_ptr += 1\n",
    "        return psl_indexes\n",
    "    \n",
    "    def transform(self, X: Union[pd.DataFrame, pd.Series]) -> Union[pd.DataFrame, pd.Series]:\n",
    "        indexes: list[int] = self.get_indexes()\n",
    "        return X.iloc[indexes, :].reset_index(drop=True) if type(X) is pd.DataFrame else X[indexes].reset_index(drop=True)\n"
   ]
  },
  {
   "cell_type": "markdown",
   "id": "b7866867",
   "metadata": {},
   "source": [
    "### Handle score results"
   ]
  },
  {
   "cell_type": "code",
   "execution_count": 11,
   "id": "194efe87",
   "metadata": {},
   "outputs": [],
   "source": [
    "from sklearn.metrics import accuracy_score, precision_score, recall_score\n",
    "\n",
    "\n",
    "class ScoreHandler:\n",
    "    \n",
    "    def __init__(self, model, X: pd.DataFrame, y_true: pd.Series, commands: pd.Series) -> None:\n",
    "        self.__model = model\n",
    "        self.__X: pd.DataFrame = X\n",
    "        self.__y_true: pd.Series = y_true\n",
    "        self.__commands: pd.Series = commands\n",
    "        self.__y_pred: np.ndarray = None\n",
    "            \n",
    "    def set_parameters(self, X: pd.DataFrame, y_true: pd.Series, commands: pd.Series = None) -> None:   \n",
    "        n_features: int = X.shape[1]\n",
    "        if n_features != self.__model.n_features_in_ or len(X) != len(y_true):\n",
    "            return\n",
    "        if commands is not None and len(commands) == len(X):\n",
    "            self.__commands = commands\n",
    "        self.__X = X\n",
    "        self.__y_true = y_true\n",
    "        \n",
    "    def show_params_dimensionality(self) -> None:\n",
    "        print(f\"X: {self.__X.shape} || y_true: {self.__y_true.shape} || commands: {self.__commands.shape}\")\n",
    "        \n",
    "    def calculate_score(self) -> str:\n",
    "        self.__y_pred = self.__model.predict(self.__X)\n",
    "        \n",
    "        accuracy: float = np.round(accuracy_score(y_true=self.__y_true, y_pred=self.__y_pred), 5)  # true predictions / all predictions\n",
    "        precision: float = np.round(precision_score(y_true=self.__y_true, y_pred=self.__y_pred), 5)  # true positive predictions / all positive predictions\n",
    "        recall: float = np.round(recall_score(y_true=self.__y_true, y_pred=self.__y_pred), 5)  # true positive predictions / all positive labels\n",
    "        \n",
    "        return f\"Model: {self.__model} || Accuracy: {accuracy} || Precision: {precision} || Recall: {recall}\"\n",
    "    \n",
    "    def __compare_prediction_result(self) -> list[str]:\n",
    "        comparison_result: list[str] = ['+' if self.__y_pred[i] == self.__y_true[i] else '-' for i in np.arange(len(self.__y_pred))]\n",
    "        return comparison_result\n",
    "    \n",
    "    def __build_dataframe(self) -> pd.DataFrame:\n",
    "        result: pd.DataFrame = pd.DataFrame({\n",
    "            \"command\": self.__commands,\n",
    "            \"y_true\": self.__y_true,\n",
    "            \"y_pred\": self.__y_pred,\n",
    "            \"is_equal\": self.__compare_prediction_result()\n",
    "        })\n",
    "        return result\n",
    "    \n",
    "    @staticmethod\n",
    "    def save_to_csv(dataframe: pd.DataFrame, csv_filename: str, index: bool = False, header: bool = True) -> None:\n",
    "        \"\"\"writing dataframe to csv_filename\"\"\"\n",
    "        dataframe.to_csv(\n",
    "            path_or_buf=csv_filename, \n",
    "            sep=',',\n",
    "            encoding='UTF8',\n",
    "            index=index,\n",
    "            header=header\n",
    "        )\n",
    "    \n",
    "    def handle(self, csv_filename: str = None) -> pd.DataFrame:\n",
    "        score_result: str = self.calculate_score()\n",
    "        score_result_extended: pd.DataFrame = self.__build_dataframe()\n",
    "        \n",
    "        print(score_result)\n",
    "        if csv_filename is not None:\n",
    "            self.save_to_csv(dataframe=score_result_extended, csv_filename=csv_filename)\n",
    "        return score_result_extended"
   ]
  },
  {
   "cell_type": "markdown",
   "id": "24aae47f",
   "metadata": {},
   "source": [
    "### Preprocessing and dividing original tokenizer dataset"
   ]
  },
  {
   "cell_type": "code",
   "execution_count": 12,
   "id": "530ff34a",
   "metadata": {},
   "outputs": [],
   "source": [
    "preprocessing_pipeline: Pipeline = Pipeline([\n",
    "    (\"maker_short_commands_clear\", MakerShortCommandsClear(tokenizer_df)),\n",
    "    (\"commands_encoding_fixer\", CommandsEncodingFixer(tokenizer_df)),\n",
    "    (\"train_objects_remover\", TrainObjectsRemover(tokenizer_df, train_df)),\n",
    "])\n",
    "    \n",
    "dropper_pipeline: Pipeline = Pipeline([\n",
    "    (\"target_values_dropper\", TargetValuesDropper()),\n",
    "    (\"commands_dropper\", CommandsDropper()),\n",
    "    (\"useless_features_dropper\", UselessFeaturesDropper(original_tokenizer_df)),\n",
    "])"
   ]
  },
  {
   "cell_type": "code",
   "execution_count": 13,
   "id": "b6c2f803",
   "metadata": {},
   "outputs": [],
   "source": [
    "original_tokenizer_df_processed: pd.DataFrame = preprocessing_pipeline.fit_transform(original_tokenizer_df)\n",
    "target: pd.Series = original_tokenizer_df_processed[\"obfuscated\"]\n",
    "commands: pd.Series = original_tokenizer_df_processed[\"command_obfuscated\"]"
   ]
  },
  {
   "cell_type": "code",
   "execution_count": 14,
   "id": "5f913bf9",
   "metadata": {
    "scrolled": false
   },
   "outputs": [],
   "source": [
    "X: pd.DataFrame = dropper_pipeline.fit_transform(original_tokenizer_df_processed)"
   ]
  },
  {
   "cell_type": "markdown",
   "id": "c91131b7",
   "metadata": {},
   "source": [
    "## Defining CSV filepaths to save score results"
   ]
  },
  {
   "cell_type": "code",
   "execution_count": 15,
   "id": "3e5910a0",
   "metadata": {},
   "outputs": [],
   "source": [
    "# Multinomial Naive Bayes\n",
    "\n",
    "cmd_mnb_filename: str = r\"D:/Obfuscation/data/datasets/additional/tests/mnb/cmd.csv\"\n",
    "others_in_dataset_mnb_filename: str = r\"D:/Obfuscation/data/datasets/additional/tests/mnb/others_in_dataset.csv\"\n",
    "poor_obfuscated_mnb_filename: str = r\"D:/Obfuscation/data/datasets/additional/tests/mnb/poor_obfuscated.csv\"\n",
    "cyrillic_mnb_filename: str = \"D:/Obfuscation/data/datasets/additional/tests/mnb/cyrillic.csv\""
   ]
  },
  {
   "cell_type": "code",
   "execution_count": 16,
   "id": "db940878",
   "metadata": {},
   "outputs": [],
   "source": [
    "# Gaussian Naive Bayes\n",
    "    \n",
    "cmd_gnb_filename: str = r\"D:/Obfuscation/data/datasets/additional/tests/gnb/cmd.csv\"\n",
    "others_in_dataset_gnb_filename: str = r\"D:/Obfuscation/data/datasets/additional/tests/gnb/others_in_dataset.csv\"\n",
    "poor_obfuscated_gnb_filename: str = r\"D:/Obfuscation/data/datasets/additional/tests/gnb/poor_obfuscated.csv\"\n",
    "cyrillic_gnb_filename: str = \"D:/Obfuscation/data/datasets/additional/tests/gnb/cyrillic.csv\""
   ]
  },
  {
   "cell_type": "code",
   "execution_count": 17,
   "id": "7ecea598",
   "metadata": {},
   "outputs": [],
   "source": [
    "# Logistic Regression\n",
    "\n",
    "cmd_logreg_filename: str = r\"D:/Obfuscation/data/datasets/additional/tests/logreg/cmd.csv\"\n",
    "others_in_dataset_logreg_filename: str = r\"D:/Obfuscation/data/datasets/additional/tests/logreg/others_in_dataset.csv\"\n",
    "poor_obfuscated_logreg_filename: str = r\"D:/Obfuscation/data/datasets/additional/tests/logreg/poor_obfuscated.csv\"\n",
    "cyrillic_logreg_filename: str = \"D:/Obfuscation/data/datasets/additional/tests/logreg/cyrillic.csv\""
   ]
  },
  {
   "cell_type": "code",
   "execution_count": 18,
   "id": "f49645b1",
   "metadata": {},
   "outputs": [],
   "source": [
    "# K-Nearest Neighbors\n",
    "\n",
    "cmd_knn_filename: str = r\"D:/Obfuscation/data/datasets/additional/tests/knn/cmd.csv\"\n",
    "others_in_dataset_knn_filename: str = r\"D:/Obfuscation/data/datasets/additional/tests/knn/others_in_dataset.csv\"\n",
    "poor_obfuscated_knn_filename: str = r\"D:/Obfuscation/data/datasets/additional/tests/knn/poor_obfuscated.csv\"\n",
    "cyrillic_knn_filename: str = \"D:/Obfuscation/data/datasets/additional/tests/knn/cyrillic.csv\""
   ]
  },
  {
   "cell_type": "markdown",
   "id": "99bbd98f",
   "metadata": {},
   "source": [
    "## Defining CSV filepaths for additional test datasets"
   ]
  },
  {
   "cell_type": "code",
   "execution_count": 19,
   "id": "90a36f75",
   "metadata": {},
   "outputs": [],
   "source": [
    "poor_obfuscated_dataset_filename: str = r\"D:/Obfuscation/data/datasets/additional/data/POOR_OBFUSCATED_DATASET.csv\"\n",
    "poor_obfuscated_tokenizer_dataset_filename: str = r\"D:/Obfuscation/data/datasets/additional/data/POOR_OBFUSCATED_TOKENIZER_DATASET.csv\"\n",
    "\n",
    "cyrillic_dataset_filename: str = r\"D:/Obfuscation/data/datasets/additional/data/CYRILLIC_DATASET.csv\"\n",
    "cyrillic_tokenizer_dataset_filename: str = r\"D:/Obfuscation/data/datasets/additional/data/CYRILLIC_TOKENIZER_DATASET.csv\""
   ]
  },
  {
   "cell_type": "markdown",
   "id": "998d6ba0",
   "metadata": {},
   "source": [
    "## Selecting Pipeline (for cmd/psl commands from dataset)"
   ]
  },
  {
   "cell_type": "code",
   "execution_count": 20,
   "id": "8c812a04",
   "metadata": {},
   "outputs": [],
   "source": [
    "def select_data(SelectorClass: Selector, X: pd.DataFrame, commands: pd.Series, target: pd.Series) -> tuple[pd.DataFrame, pd.Series, pd.Series]:\n",
    "    \"\"\"\n",
    "    Select data from dataset according to command type: cmd or others(psl)\n",
    "    Returns: X_selected, commands_selected, target_selected\n",
    "    \"\"\"\n",
    "    selector: Selector = SelectorClass(commands)\n",
    "    pipeline: Pipeline = Pipeline([\n",
    "        (\"selector\", selector),\n",
    "        (\"min_max_scaler\", MinMaxScaler()),\n",
    "    ])\n",
    "        \n",
    "    X_selected: pd.DataFrame = pd.DataFrame(pipeline.fit_transform(X), columns=X.columns)\n",
    "    commands_selected: pd.Series = selector.fit_transform(commands)\n",
    "    target_selected: pd.Series = selector.fit_transform(target)\n",
    "        \n",
    "    return X_selected, commands_selected, target_selected"
   ]
  },
  {
   "cell_type": "code",
   "execution_count": 21,
   "id": "f95cd714",
   "metadata": {},
   "outputs": [],
   "source": [
    "# Cmd commands\n",
    "\n",
    "X_cmd, commands_cmd, target_cmd = select_data(CmdCommandsSelector, X, commands, target)"
   ]
  },
  {
   "cell_type": "code",
   "execution_count": 22,
   "id": "ee5e5a44",
   "metadata": {},
   "outputs": [],
   "source": [
    "# Other(psl) commands in remaining objects(no cmd)\n",
    "\n",
    "X_psl, commands_psl, target_psl = select_data(PslCommandsSelector, X, commands, target)"
   ]
  },
  {
   "cell_type": "markdown",
   "id": "dc36230a",
   "metadata": {},
   "source": [
    "### Generating and saving poor obfuscated commands"
   ]
  },
  {
   "cell_type": "code",
   "execution_count": 23,
   "id": "8ac1c7cd",
   "metadata": {},
   "outputs": [],
   "source": [
    "def get_clear_commands(tokenizer_df: pd.DataFrame) -> list[str]:\n",
    "    \"\"\"get real clear commands (which are with no one obfuscation technique)\"\"\"\n",
    "    return tokenizer_df[tokenizer_df[\"obf_methods_combination_number\"] == 0][\"command_obfuscated\"].to_list()"
   ]
  },
  {
   "cell_type": "code",
   "execution_count": 24,
   "id": "869b5558",
   "metadata": {},
   "outputs": [],
   "source": [
    "clear_commands: list[str] = get_clear_commands(tokenizer_df)"
   ]
  },
  {
   "cell_type": "code",
   "execution_count": 25,
   "id": "fa13bc39",
   "metadata": {},
   "outputs": [
    {
     "name": "stdout",
     "output_type": "stream",
     "text": [
      "Min length = 2 || Mean length = 100.27333333333333 || Max length = 22017\n"
     ]
    }
   ],
   "source": [
    "commands_length: list[int] = [len(command) for command in clear_commands]\n",
    "print(f\"Min length = {min(commands_length)} || Mean length = {sum(commands_length) / len(clear_commands)} || Max length = {max(commands_length)}\")"
   ]
  },
  {
   "cell_type": "code",
   "execution_count": 83,
   "id": "bf60a64e",
   "metadata": {},
   "outputs": [],
   "source": [
    "# 1 char will be inserted randomly ` for every 20 symbols in command if length of command more or equal then 20 else just add 1 char `\n",
    "\n",
    "def obfuscate(clear_commands: list[str], commands_length: list[int], symbols: int = 20, char: str = '`') -> list[str]:\n",
    "    obfuscated_command: list[str] = [\"\" for _ in range(len(clear_commands))]\n",
    "    for i, command in enumerate(clear_commands):\n",
    "        parts_quantity: int = commands_length[i] // symbols + 1\n",
    "        command_slices: list[str] = ['' for _ in range(parts_quantity + 1)]\n",
    "        prev_index: int = 0\n",
    "        for j in range(parts_quantity):\n",
    "            index: int = min(symbols * j + np.random.randint(0, min(symbols, len(command))), len(command))\n",
    "            command_slices[j] = command[prev_index:index]\n",
    "            prev_index = index\n",
    "        command_slices[-1] = command[prev_index:]\n",
    "        obfuscated_command[i] = char.join(command_slices)\n",
    "    return obfuscated_command"
   ]
  },
  {
   "cell_type": "code",
   "execution_count": 84,
   "id": "58ea9e2a",
   "metadata": {},
   "outputs": [],
   "source": [
    "poor_obfuscated_commands: list[str] = obfuscate(clear_commands, commands_length)\n",
    "poor_obfuscated_target: list[int] = [1 for _ in range(len(clear_commands))]"
   ]
  },
  {
   "cell_type": "code",
   "execution_count": 85,
   "id": "68bdfb8e",
   "metadata": {},
   "outputs": [],
   "source": [
    "# create dataframe of poor_obfuscated commands\n",
    "\n",
    "poor_obfuscated_df: pd.DataFrame = pd.DataFrame({\n",
    "    \"command_clear\": clear_commands,\n",
    "    \"command_obfuscated\": poor_obfuscated_commands,\n",
    "    \"obfuscated\": poor_obfuscated_target,\n",
    "})"
   ]
  },
  {
   "cell_type": "code",
   "execution_count": 86,
   "id": "b26c17f5",
   "metadata": {},
   "outputs": [
    {
     "name": "stdout",
     "output_type": "stream",
     "text": [
      "(1650, 3)\n"
     ]
    },
    {
     "data": {
      "text/html": [
       "<div>\n",
       "<style scoped>\n",
       "    .dataframe tbody tr th:only-of-type {\n",
       "        vertical-align: middle;\n",
       "    }\n",
       "\n",
       "    .dataframe tbody tr th {\n",
       "        vertical-align: top;\n",
       "    }\n",
       "\n",
       "    .dataframe thead th {\n",
       "        text-align: right;\n",
       "    }\n",
       "</style>\n",
       "<table border=\"1\" class=\"dataframe\">\n",
       "  <thead>\n",
       "    <tr style=\"text-align: right;\">\n",
       "      <th></th>\n",
       "      <th>command_clear</th>\n",
       "      <th>command_obfuscated</th>\n",
       "      <th>obfuscated</th>\n",
       "    </tr>\n",
       "  </thead>\n",
       "  <tbody>\n",
       "    <tr>\n",
       "      <th>0</th>\n",
       "      <td>$PSVersionTable</td>\n",
       "      <td>$PSVersion`Table</td>\n",
       "      <td>1</td>\n",
       "    </tr>\n",
       "    <tr>\n",
       "      <th>1</th>\n",
       "      <td>$UserCredential = Get-Credential $Session = Ne...</td>\n",
       "      <td>`$UserCredential = Get-Credential `$Session = ...</td>\n",
       "      <td>1</td>\n",
       "    </tr>\n",
       "    <tr>\n",
       "      <th>2</th>\n",
       "      <td>$members = Import-CSV c:itadd-to-group.csv | S...</td>\n",
       "      <td>$members = Import-C`SV c`:itadd-to-group.cs`v ...</td>\n",
       "      <td>1</td>\n",
       "    </tr>\n",
       "    <tr>\n",
       "      <th>3</th>\n",
       "      <td>$os = Get-WmiObject win32_operatingsystem $upt...</td>\n",
       "      <td>$os` = Get-WmiObject win32_op`eratingsystem $u...</td>\n",
       "      <td>1</td>\n",
       "    </tr>\n",
       "    <tr>\n",
       "      <th>4</th>\n",
       "      <td>Add-ADGroupMember -Identity group-name -Member...</td>\n",
       "      <td>Ad`d-ADGroupMember -Identity group-name` -Memb...</td>\n",
       "      <td>1</td>\n",
       "    </tr>\n",
       "  </tbody>\n",
       "</table>\n",
       "</div>"
      ],
      "text/plain": [
       "                                       command_clear  \\\n",
       "0                                    $PSVersionTable   \n",
       "1  $UserCredential = Get-Credential $Session = Ne...   \n",
       "2  $members = Import-CSV c:itadd-to-group.csv | S...   \n",
       "3  $os = Get-WmiObject win32_operatingsystem $upt...   \n",
       "4  Add-ADGroupMember -Identity group-name -Member...   \n",
       "\n",
       "                                  command_obfuscated  obfuscated  \n",
       "0                                   $PSVersion`Table           1  \n",
       "1  `$UserCredential = Get-Credential `$Session = ...           1  \n",
       "2  $members = Import-C`SV c`:itadd-to-group.cs`v ...           1  \n",
       "3  $os` = Get-WmiObject win32_op`eratingsystem $u...           1  \n",
       "4  Ad`d-ADGroupMember -Identity group-name` -Memb...           1  "
      ]
     },
     "execution_count": 86,
     "metadata": {},
     "output_type": "execute_result"
    }
   ],
   "source": [
    "print(poor_obfuscated_df.shape)\n",
    "poor_obfuscated_df.head()"
   ]
  },
  {
   "cell_type": "code",
   "execution_count": 87,
   "id": "3a3d7ba4",
   "metadata": {},
   "outputs": [],
   "source": [
    "# save to csv\n",
    "\n",
    "ScoreHandler.save_to_csv(dataframe=poor_obfuscated_df, csv_filename=poor_obfuscated_dataset_filename)"
   ]
  },
  {
   "cell_type": "markdown",
   "id": "f20bdf29",
   "metadata": {},
   "source": [
    "### Generating and saving commands with cyrillic symbols"
   ]
  },
  {
   "cell_type": "code",
   "execution_count": 61,
   "id": "61ff4924",
   "metadata": {},
   "outputs": [],
   "source": [
    "clear_commands_cyrillic: list[str] = [\n",
    "    \"Powershell -command \"\"Write-Host 'Мой голос это мой паспорт, верифицируй меня.'\"\"\",\n",
    "    \"Write-host 'Привет, мир!'\",\n",
    "    \"powershell -noProfile -nonInteractive -WindowsStyle Hidden -Execution bypass Write-host \"\"Старайся сильнее\"\"\",\n",
    "    \"Write-host 'Мой голос это мой паспорт, верифицируй меня.'\",\n",
    "    \"Write-host 'Обфуска́ция или запутывание кода — приведение исходного текста или исполняемого кода программы к виду, сохраняющему её функциональность, но затрудняющему анализ, понимание алгоритмов работы и модификацию при декомпиляции.'\",\n",
    "    \"Write-host 'Машинное обучение — класс методов искусственного интеллекта, характерной чертой которых является не прямое решение задачи, а обучение за счёт применения решений множества сходных задач. Для построения таких методов используются средства математической статистики, численных методов, математического анализа, методов оптимизации, теории вероятностей, теории графов, различные техники работы с данными в цифровой форме.'\",\n",
    "    \"Write-host 'Красивое лучше, чем уродливое. Явное лучше, чем неявное. Простое лучше, чем сложное. Сложное лучше, чем запутанное. Плоское лучше, чем вложенное. Разреженное лучше, чем плотное. Читаемость имеет значение. Особые случаи не настолько особые, чтобы нарушать правила. При этом практичность важнее безупречности. Ошибки никогда не должны замалчиваться. Если они не замалчиваются явно. Встретив двусмысленность, отбрось искушение угадать. Должен существовать один и, желательно, только один очевидный способ сделать это.'\",\n",
    "    \"Write-host 'Красивое лучше, чем уродливое. Явное лучше, чем неявное. Простое лучше, чем сложное. Сложное лучше, чем запутанное. Плоское лучше, чем вложенное. Разреженное лучше, чем плотное. Читаемость имеет значение. Особые случаи не настолько особые, чтобы нарушать правила. При этом практичность важнее безупречности. Ошибки никогда не должны замалчиваться. Если они не замалчиваются явно. Встретив двусмысленность, отбрось искушение угадать. Должен существовать один и, желательно, только один очевидный способ сделать это. Хотя он поначалу может быть и не очевиден, если вы не голландец. Сейчас лучше, чем никогда. Хотя никогда зачастую лучше, чем прямо сейчас. Если реализацию сложно объяснить — идея плоха. Если реализацию легко объяснить — идея, возможно, хороша. Пространства имён — отличная штука! Будем делать их больше!'\",\n",
    "]\n",
    "\n",
    "target_cyrillic: list[int] = [0] * len(clear_commands_cyrillic)\n",
    "\n",
    "cyrillic_df: pd.DataFrame = pd.DataFrame({\n",
    "    \"command_clear\": clear_commands_cyrillic,\n",
    "    \"command_obfuscated\": clear_commands_cyrillic,\n",
    "    \"obfuscated\": target_cyrillic,\n",
    "})"
   ]
  },
  {
   "cell_type": "code",
   "execution_count": 62,
   "id": "7eec3759",
   "metadata": {
    "scrolled": true
   },
   "outputs": [
    {
     "name": "stdout",
     "output_type": "stream",
     "text": [
      "(8, 3)\n",
      "                                       command_clear  \\\n",
      "0  Powershell -command Write-Host 'Мой голос это ...   \n",
      "1                          Write-host 'Привет, мир!'   \n",
      "2  powershell -noProfile -nonInteractive -Windows...   \n",
      "3  Write-host 'Мой голос это мой паспорт, верифиц...   \n",
      "4  Write-host 'Обфуска́ция или запутывание кода —...   \n",
      "\n",
      "                                  command_obfuscated  obfuscated  \n",
      "0  Powershell -command Write-Host 'Мой голос это ...           0  \n",
      "1                          Write-host 'Привет, мир!'           0  \n",
      "2  powershell -noProfile -nonInteractive -Windows...           0  \n",
      "3  Write-host 'Мой голос это мой паспорт, верифиц...           0  \n",
      "4  Write-host 'Обфуска́ция или запутывание кода —...           0  \n"
     ]
    }
   ],
   "source": [
    "show_info(cyrillic_df)"
   ]
  },
  {
   "cell_type": "code",
   "execution_count": 63,
   "id": "aad5dd5f",
   "metadata": {},
   "outputs": [],
   "source": [
    "ScoreHandler.save_to_csv(dataframe=cyrillic_df, csv_filename=cyrillic_dataset_filename)"
   ]
  },
  {
   "cell_type": "markdown",
   "id": "f7d57e7b",
   "metadata": {},
   "source": [
    "## Processing raw datasets with poor obfuscated and cyrillic"
   ]
  },
  {
   "cell_type": "code",
   "execution_count": 23,
   "id": "26c2bcfc",
   "metadata": {},
   "outputs": [],
   "source": [
    "# pipeline, containing dropping features and scaling\n",
    "\n",
    "dropper_scaler_pipeline: Pipeline = Pipeline([\n",
    "    (\"target_values_dropper\", TargetValuesDropper()),\n",
    "    (\"commands_dropper\", CommandsDropper()),\n",
    "    (\"useless_features_dropper\", UselessFeaturesDropper(original_tokenizer_df)),\n",
    "    (\"min_max_scaler\", MinMaxScaler()),\n",
    "])"
   ]
  },
  {
   "cell_type": "markdown",
   "id": "93e879df",
   "metadata": {},
   "source": [
    "### Poor obfuscated commands"
   ]
  },
  {
   "cell_type": "code",
   "execution_count": 24,
   "id": "9147475a",
   "metadata": {},
   "outputs": [],
   "source": [
    "# import data from csv\n",
    "\n",
    "poor_obfuscated_df: pd.DataFrame = pd.read_csv(poor_obfuscated_tokenizer_dataset_filename)"
   ]
  },
  {
   "cell_type": "code",
   "execution_count": 25,
   "id": "dbcaf307",
   "metadata": {
    "scrolled": true
   },
   "outputs": [
    {
     "name": "stdout",
     "output_type": "stream",
     "text": [
      "(1408, 5001)\n",
      "                                       command_clear  \\\n",
      "0  $UserCredential = Get-Credential $Session = Ne...   \n",
      "1  $members = Import-CSV c:itadd-to-group.csv | S...   \n",
      "2  Add-ADGroupMember -Identity group-name -Member...   \n",
      "3                  Backup-Gpo -All -Path E:GPObackup   \n",
      "4                                Checkpoint-Computer   \n",
      "\n",
      "                                  command_obfuscated  \\\n",
      "0  `$UserCredential = Get-Credential `$Session = ...   \n",
      "1  $members = Import-C`SV c`:itadd-to-group.cs`v ...   \n",
      "2  Ad`d-ADGroupMember -Identity group-name` -Memb...   \n",
      "3                Backup-Gpo -All` -Path E:GPObackup`   \n",
      "4                               Checkpoi`nt-Computer   \n",
      "\n",
      "   AstGroupedArrayElementRangeCounts_0-10_Count  \\\n",
      "0                                           0.0   \n",
      "1                                           0.0   \n",
      "2                                           0.0   \n",
      "3                                           0.0   \n",
      "4                                           0.0   \n",
      "\n",
      "   AstGroupedArrayElementRangeCounts_0-10_Percent  \\\n",
      "0                                             0.0   \n",
      "1                                             0.0   \n",
      "2                                             0.0   \n",
      "3                                             0.0   \n",
      "4                                             0.0   \n",
      "\n",
      "   AstGroupedArrayElementRangeCounts_10-20_Count  \\\n",
      "0                                            0.0   \n",
      "1                                            0.0   \n",
      "2                                            0.0   \n",
      "3                                            0.0   \n",
      "4                                            0.0   \n",
      "\n",
      "   AstGroupedArrayElementRangeCounts_10-20_Percent  \\\n",
      "0                                              0.0   \n",
      "1                                              0.0   \n",
      "2                                              0.0   \n",
      "3                                              0.0   \n",
      "4                                              0.0   \n",
      "\n",
      "   AstGroupedArrayElementRangeCounts_20-30_Count  \\\n",
      "0                                            0.0   \n",
      "1                                            0.0   \n",
      "2                                            0.0   \n",
      "3                                            0.0   \n",
      "4                                            0.0   \n",
      "\n",
      "   AstGroupedArrayElementRangeCounts_20-30_Percent  \\\n",
      "0                                              0.0   \n",
      "1                                              0.0   \n",
      "2                                              0.0   \n",
      "3                                              0.0   \n",
      "4                                              0.0   \n",
      "\n",
      "   AstGroupedArrayElementRangeCounts_30-40_Count  \\\n",
      "0                                            0.0   \n",
      "1                                            0.0   \n",
      "2                                            0.0   \n",
      "3                                            0.0   \n",
      "4                                            0.0   \n",
      "\n",
      "   AstGroupedArrayElementRangeCounts_30-40_Percent  ...  \\\n",
      "0                                              0.0  ...   \n",
      "1                                              0.0  ...   \n",
      "2                                              0.0  ...   \n",
      "3                                              0.0  ...   \n",
      "4                                              0.0  ...   \n",
      "\n",
      "   AstVariableNameMetrics_Length_Mode  AstVariableNameMetrics_Length_Range  \\\n",
      "0                                 5.0                                  0.0   \n",
      "1                                 7.0                                  0.0   \n",
      "2                                 0.0                                  0.0   \n",
      "3                                 0.0                                  0.0   \n",
      "4                                 0.0                                  0.0   \n",
      "\n",
      "   AstVariableNameMetrics_Length_Total  \\\n",
      "0                                 10.0   \n",
      "1                                 14.0   \n",
      "2                                  0.0   \n",
      "3                                  0.0   \n",
      "4                                  0.0   \n",
      "\n",
      "   AstVariableNameMetrics_UpperAlphaPercent_Average  \\\n",
      "0                                               0.3   \n",
      "1                                               0.0   \n",
      "2                                               0.0   \n",
      "3                                               0.0   \n",
      "4                                               0.0   \n",
      "\n",
      "   AstVariableNameMetrics_UpperAlphaPercent_Maximum  \\\n",
      "0                                               0.4   \n",
      "1                                               0.0   \n",
      "2                                               0.0   \n",
      "3                                               0.0   \n",
      "4                                               0.0   \n",
      "\n",
      "   AstVariableNameMetrics_UpperAlphaPercent_Median  \\\n",
      "0                                              0.4   \n",
      "1                                              0.0   \n",
      "2                                              0.0   \n",
      "3                                              0.0   \n",
      "4                                              0.0   \n",
      "\n",
      "   AstVariableNameMetrics_UpperAlphaPercent_Minimum  \\\n",
      "0                                               0.2   \n",
      "1                                               0.0   \n",
      "2                                               0.0   \n",
      "3                                               0.0   \n",
      "4                                               0.0   \n",
      "\n",
      "   AstVariableNameMetrics_UpperAlphaPercent_Mode  \\\n",
      "0                                            0.4   \n",
      "1                                            0.0   \n",
      "2                                            0.0   \n",
      "3                                            0.0   \n",
      "4                                            0.0   \n",
      "\n",
      "   AstVariableNameMetrics_UpperAlphaPercent_Range  obfuscated  \n",
      "0                                             0.2           1  \n",
      "1                                             0.0           1  \n",
      "2                                             0.0           1  \n",
      "3                                             0.0           1  \n",
      "4                                             0.0           1  \n",
      "\n",
      "[5 rows x 5001 columns]\n"
     ]
    }
   ],
   "source": [
    "show_info(poor_obfuscated_df)"
   ]
  },
  {
   "cell_type": "code",
   "execution_count": 26,
   "id": "b5deb190",
   "metadata": {},
   "outputs": [],
   "source": [
    "commands_poor_obfuscated: pd.Series = poor_obfuscated_df[\"command_obfuscated\"]\n",
    "target_poor_obfuscated: pd.Series = poor_obfuscated_df[\"obfuscated\"]\n",
    "X_poor_obfuscated: pd.DataFrame = pd.DataFrame(dropper_scaler_pipeline.fit_transform(poor_obfuscated_df), columns=tokenizer_df.columns[2:-2])"
   ]
  },
  {
   "cell_type": "markdown",
   "id": "9b0f8dc7",
   "metadata": {},
   "source": [
    "### Commands containing cyrillic symbols"
   ]
  },
  {
   "cell_type": "code",
   "execution_count": 27,
   "id": "4386b271",
   "metadata": {},
   "outputs": [],
   "source": [
    "# import data from csv\n",
    "\n",
    "cyrillic_df: pd.DataFrame = pd.read_csv(cyrillic_tokenizer_dataset_filename)"
   ]
  },
  {
   "cell_type": "code",
   "execution_count": 28,
   "id": "af40547f",
   "metadata": {},
   "outputs": [
    {
     "name": "stdout",
     "output_type": "stream",
     "text": [
      "(8, 5001)\n",
      "                                       command_clear  \\\n",
      "0  Powershell -command Write-Host 'Мой голос это ...   \n",
      "1                          Write-host 'Привет, мир!'   \n",
      "2  powershell -noProfile -nonInteractive -Windows...   \n",
      "3  Write-host 'Мой голос это мой паспорт, верифиц...   \n",
      "4  Write-host 'Обфуска́ция или запутывание кода —...   \n",
      "\n",
      "                                  command_obfuscated  \\\n",
      "0  Powershell -command Write-Host 'Мой голос это ...   \n",
      "1                          Write-host 'Привет, мир!'   \n",
      "2  powershell -noProfile -nonInteractive -Windows...   \n",
      "3  Write-host 'Мой голос это мой паспорт, верифиц...   \n",
      "4  Write-host 'Обфуска́ция или запутывание кода —...   \n",
      "\n",
      "   AstGroupedArrayElementRangeCounts_0-10_Count  \\\n",
      "0                                           0.0   \n",
      "1                                           0.0   \n",
      "2                                           0.0   \n",
      "3                                           0.0   \n",
      "4                                           0.0   \n",
      "\n",
      "   AstGroupedArrayElementRangeCounts_0-10_Percent  \\\n",
      "0                                             0.0   \n",
      "1                                             0.0   \n",
      "2                                             0.0   \n",
      "3                                             0.0   \n",
      "4                                             0.0   \n",
      "\n",
      "   AstGroupedArrayElementRangeCounts_10-20_Count  \\\n",
      "0                                            0.0   \n",
      "1                                            0.0   \n",
      "2                                            0.0   \n",
      "3                                            0.0   \n",
      "4                                            0.0   \n",
      "\n",
      "   AstGroupedArrayElementRangeCounts_10-20_Percent  \\\n",
      "0                                              0.0   \n",
      "1                                              0.0   \n",
      "2                                              0.0   \n",
      "3                                              0.0   \n",
      "4                                              0.0   \n",
      "\n",
      "   AstGroupedArrayElementRangeCounts_20-30_Count  \\\n",
      "0                                            0.0   \n",
      "1                                            0.0   \n",
      "2                                            0.0   \n",
      "3                                            0.0   \n",
      "4                                            0.0   \n",
      "\n",
      "   AstGroupedArrayElementRangeCounts_20-30_Percent  \\\n",
      "0                                              0.0   \n",
      "1                                              0.0   \n",
      "2                                              0.0   \n",
      "3                                              0.0   \n",
      "4                                              0.0   \n",
      "\n",
      "   AstGroupedArrayElementRangeCounts_30-40_Count  \\\n",
      "0                                            0.0   \n",
      "1                                            0.0   \n",
      "2                                            0.0   \n",
      "3                                            0.0   \n",
      "4                                            0.0   \n",
      "\n",
      "   AstGroupedArrayElementRangeCounts_30-40_Percent  ...  \\\n",
      "0                                              0.0  ...   \n",
      "1                                              0.0  ...   \n",
      "2                                              0.0  ...   \n",
      "3                                              0.0  ...   \n",
      "4                                              0.0  ...   \n",
      "\n",
      "   AstVariableNameMetrics_Length_Mode  AstVariableNameMetrics_Length_Range  \\\n",
      "0                                 0.0                                  0.0   \n",
      "1                                 0.0                                  0.0   \n",
      "2                                 0.0                                  0.0   \n",
      "3                                 0.0                                  0.0   \n",
      "4                                 0.0                                  0.0   \n",
      "\n",
      "   AstVariableNameMetrics_Length_Total  \\\n",
      "0                                  0.0   \n",
      "1                                  0.0   \n",
      "2                                  0.0   \n",
      "3                                  0.0   \n",
      "4                                  0.0   \n",
      "\n",
      "   AstVariableNameMetrics_UpperAlphaPercent_Average  \\\n",
      "0                                               0.0   \n",
      "1                                               0.0   \n",
      "2                                               0.0   \n",
      "3                                               0.0   \n",
      "4                                               0.0   \n",
      "\n",
      "   AstVariableNameMetrics_UpperAlphaPercent_Maximum  \\\n",
      "0                                               0.0   \n",
      "1                                               0.0   \n",
      "2                                               0.0   \n",
      "3                                               0.0   \n",
      "4                                               0.0   \n",
      "\n",
      "   AstVariableNameMetrics_UpperAlphaPercent_Median  \\\n",
      "0                                              0.0   \n",
      "1                                              0.0   \n",
      "2                                              0.0   \n",
      "3                                              0.0   \n",
      "4                                              0.0   \n",
      "\n",
      "   AstVariableNameMetrics_UpperAlphaPercent_Minimum  \\\n",
      "0                                               0.0   \n",
      "1                                               0.0   \n",
      "2                                               0.0   \n",
      "3                                               0.0   \n",
      "4                                               0.0   \n",
      "\n",
      "   AstVariableNameMetrics_UpperAlphaPercent_Mode  \\\n",
      "0                                            0.0   \n",
      "1                                            0.0   \n",
      "2                                            0.0   \n",
      "3                                            0.0   \n",
      "4                                            0.0   \n",
      "\n",
      "   AstVariableNameMetrics_UpperAlphaPercent_Range  obfuscated  \n",
      "0                                             0.0           0  \n",
      "1                                             0.0           0  \n",
      "2                                             0.0           0  \n",
      "3                                             0.0           0  \n",
      "4                                             0.0           0  \n",
      "\n",
      "[5 rows x 5001 columns]\n"
     ]
    }
   ],
   "source": [
    "show_info(cyrillic_df)"
   ]
  },
  {
   "cell_type": "code",
   "execution_count": 29,
   "id": "53a850b2",
   "metadata": {},
   "outputs": [],
   "source": [
    "commands_cyrillic: pd.Series = cyrillic_df[\"command_obfuscated\"]\n",
    "target_cyrillic: pd.Series = cyrillic_df[\"obfuscated\"]\n",
    "X_cyrillic: pd.DataFrame = pd.DataFrame(dropper_scaler_pipeline.fit_transform(cyrillic_df), columns=tokenizer_df.columns[2:-2])"
   ]
  },
  {
   "cell_type": "markdown",
   "id": "2a6208a0",
   "metadata": {},
   "source": [
    "### Loading trained models"
   ]
  },
  {
   "cell_type": "code",
   "execution_count": 30,
   "id": "9c220ee8",
   "metadata": {},
   "outputs": [],
   "source": [
    "def load_model(pkl_filename: str, mode: str = 'rb'):\n",
    "    try:\n",
    "        with open(pkl_filename, mode) as file:\n",
    "            pickle_model = pickle.load(file)\n",
    "        return pickle_model\n",
    "    except Exception as exception_instance:\n",
    "        print(f\"The exception was occured while loading mode from file {pkl_filename}: {exception_instance}\")"
   ]
  },
  {
   "cell_type": "code",
   "execution_count": 31,
   "id": "c0a201e0",
   "metadata": {},
   "outputs": [],
   "source": [
    "# declare filename paths to models\n",
    "\n",
    "gaussianNB_model_filename: str = r\"D:\\Obfuscation\\models\\GaussianNB_model.pkl\"\n",
    "multinomialNB_model_filename: str = r\"D:\\Obfuscation\\models\\MultinomialNB_model.pkl\"\n",
    "logisticRegression_model_filename: str = r\"D:\\Obfuscation\\models\\LogisticRegression_model.pkl\"\n",
    "knn_model_filename: str = r\"D:\\Obfuscation\\models\\KNearestNeighbors_model.pkl\""
   ]
  },
  {
   "cell_type": "code",
   "execution_count": 32,
   "id": "84a8ca81",
   "metadata": {},
   "outputs": [],
   "source": [
    "# import trained models\n",
    "\n",
    "gnb_model = load_model(gaussianNB_model_filename)\n",
    "mnb_model = load_model(multinomialNB_model_filename)\n",
    "logreg_model = load_model(logisticRegression_model_filename)\n",
    "knn_model = load_model(knn_model_filename)"
   ]
  },
  {
   "cell_type": "markdown",
   "id": "68e09dbd",
   "metadata": {},
   "source": [
    "## Running all additional test data on models"
   ]
  },
  {
   "cell_type": "markdown",
   "id": "a0405b20",
   "metadata": {},
   "source": [
    "### Multinomial Naive Bayes"
   ]
  },
  {
   "cell_type": "code",
   "execution_count": 36,
   "id": "c0a49077",
   "metadata": {},
   "outputs": [],
   "source": [
    "score_handler_mnb: ScoreHandler = ScoreHandler(\n",
    "    model=mnb_model,\n",
    "    X=X_cmd,\n",
    "    y_true=target_cmd,\n",
    "    commands=commands_cmd\n",
    ")"
   ]
  },
  {
   "cell_type": "markdown",
   "id": "6cf7b18d",
   "metadata": {},
   "source": [
    "#### Cmd"
   ]
  },
  {
   "cell_type": "code",
   "execution_count": 37,
   "id": "8ecd54a7",
   "metadata": {},
   "outputs": [
    {
     "name": "stdout",
     "output_type": "stream",
     "text": [
      "Model: MultinomialNB(alpha=1e-05) || Accuracy: 0.44478 || Precision: 1.0 || Recall: 0.41854\n"
     ]
    }
   ],
   "source": [
    "cmd_mnb_score: pd.DataFrame = score_handler_mnb.handle(cmd_mnb_filename)"
   ]
  },
  {
   "cell_type": "code",
   "execution_count": 38,
   "id": "aab460c9",
   "metadata": {},
   "outputs": [
    {
     "data": {
      "text/plain": [
       "-    3112\n",
       "+    2493\n",
       "Name: is_equal, dtype: int64"
      ]
     },
     "execution_count": 38,
     "metadata": {},
     "output_type": "execute_result"
    }
   ],
   "source": [
    "cmd_mnb_score[\"is_equal\"].value_counts()"
   ]
  },
  {
   "cell_type": "markdown",
   "id": "803d82f0",
   "metadata": {},
   "source": [
    "#### Psl (other commands)"
   ]
  },
  {
   "cell_type": "code",
   "execution_count": 39,
   "id": "12756038",
   "metadata": {},
   "outputs": [],
   "source": [
    "score_handler_mnb.set_parameters(\n",
    "    X=X_psl,\n",
    "    y_true=target_psl,\n",
    "    commands=commands_psl\n",
    ")"
   ]
  },
  {
   "cell_type": "code",
   "execution_count": 40,
   "id": "c0ec5bc5",
   "metadata": {
    "scrolled": true
   },
   "outputs": [
    {
     "name": "stdout",
     "output_type": "stream",
     "text": [
      "Model: MultinomialNB(alpha=1e-05) || Accuracy: 0.89087 || Precision: 0.99968 || Recall: 0.8659\n"
     ]
    }
   ],
   "source": [
    "psl_mnb_score: pd.DataFrame = score_handler_mnb.handle(others_in_dataset_mnb_filename)"
   ]
  },
  {
   "cell_type": "code",
   "execution_count": 41,
   "id": "77ab04cb",
   "metadata": {},
   "outputs": [
    {
     "data": {
      "text/plain": [
       "+    11935\n",
       "-     1462\n",
       "Name: is_equal, dtype: int64"
      ]
     },
     "execution_count": 41,
     "metadata": {},
     "output_type": "execute_result"
    }
   ],
   "source": [
    "psl_mnb_score[\"is_equal\"].value_counts()"
   ]
  },
  {
   "cell_type": "markdown",
   "id": "4ab40aad",
   "metadata": {},
   "source": [
    "#### Poor obfuscated commands"
   ]
  },
  {
   "cell_type": "code",
   "execution_count": 42,
   "id": "be0f0113",
   "metadata": {},
   "outputs": [],
   "source": [
    "score_handler_mnb.set_parameters(\n",
    "    X=X_poor_obfuscated,\n",
    "    y_true=target_poor_obfuscated,\n",
    "    commands=commands_poor_obfuscated\n",
    ")"
   ]
  },
  {
   "cell_type": "code",
   "execution_count": 43,
   "id": "30e24670",
   "metadata": {},
   "outputs": [
    {
     "name": "stdout",
     "output_type": "stream",
     "text": [
      "Model: MultinomialNB(alpha=1e-05) || Accuracy: 0.03693 || Precision: 1.0 || Recall: 0.03693\n"
     ]
    }
   ],
   "source": [
    "poor_obfuscated_mnb_score: pd.DataFrame = score_handler_mnb.handle(poor_obfuscated_mnb_filename)"
   ]
  },
  {
   "cell_type": "code",
   "execution_count": 44,
   "id": "a1683a3b",
   "metadata": {},
   "outputs": [
    {
     "data": {
      "text/plain": [
       "-    1356\n",
       "+      52\n",
       "Name: is_equal, dtype: int64"
      ]
     },
     "execution_count": 44,
     "metadata": {},
     "output_type": "execute_result"
    }
   ],
   "source": [
    "poor_obfuscated_mnb_score[\"is_equal\"].value_counts()"
   ]
  },
  {
   "cell_type": "markdown",
   "id": "312130d3",
   "metadata": {},
   "source": [
    "#### Commands with cyrillic symbols"
   ]
  },
  {
   "cell_type": "code",
   "execution_count": 45,
   "id": "658f3463",
   "metadata": {},
   "outputs": [],
   "source": [
    "score_handler_mnb.set_parameters(\n",
    "    X=X_cyrillic,\n",
    "    y_true=target_cyrillic,\n",
    "    commands=commands_cyrillic\n",
    ")"
   ]
  },
  {
   "cell_type": "code",
   "execution_count": 46,
   "id": "5d8c9d36",
   "metadata": {},
   "outputs": [
    {
     "name": "stdout",
     "output_type": "stream",
     "text": [
      "Model: MultinomialNB(alpha=1e-05) || Accuracy: 1.0 || Precision: 0.0 || Recall: 0.0\n"
     ]
    },
    {
     "name": "stderr",
     "output_type": "stream",
     "text": [
      "D:\\Maksim\\anaconda3\\envs\\mlenv\\lib\\site-packages\\sklearn\\metrics\\_classification.py:1334: UndefinedMetricWarning: Precision is ill-defined and being set to 0.0 due to no predicted samples. Use `zero_division` parameter to control this behavior.\n",
      "  _warn_prf(average, modifier, msg_start, len(result))\n",
      "D:\\Maksim\\anaconda3\\envs\\mlenv\\lib\\site-packages\\sklearn\\metrics\\_classification.py:1334: UndefinedMetricWarning: Recall is ill-defined and being set to 0.0 due to no true samples. Use `zero_division` parameter to control this behavior.\n",
      "  _warn_prf(average, modifier, msg_start, len(result))\n"
     ]
    }
   ],
   "source": [
    "cyrillic_mnb_score: pd.DataFrame = score_handler_mnb.handle(cyrillic_mnb_filename)"
   ]
  },
  {
   "cell_type": "code",
   "execution_count": 47,
   "id": "7ce07d2c",
   "metadata": {},
   "outputs": [
    {
     "data": {
      "text/html": [
       "<div>\n",
       "<style scoped>\n",
       "    .dataframe tbody tr th:only-of-type {\n",
       "        vertical-align: middle;\n",
       "    }\n",
       "\n",
       "    .dataframe tbody tr th {\n",
       "        vertical-align: top;\n",
       "    }\n",
       "\n",
       "    .dataframe thead th {\n",
       "        text-align: right;\n",
       "    }\n",
       "</style>\n",
       "<table border=\"1\" class=\"dataframe\">\n",
       "  <thead>\n",
       "    <tr style=\"text-align: right;\">\n",
       "      <th></th>\n",
       "      <th>command</th>\n",
       "      <th>y_true</th>\n",
       "      <th>y_pred</th>\n",
       "      <th>is_equal</th>\n",
       "    </tr>\n",
       "  </thead>\n",
       "  <tbody>\n",
       "    <tr>\n",
       "      <th>0</th>\n",
       "      <td>Powershell -command Write-Host 'Мой голос это ...</td>\n",
       "      <td>0</td>\n",
       "      <td>0</td>\n",
       "      <td>+</td>\n",
       "    </tr>\n",
       "    <tr>\n",
       "      <th>1</th>\n",
       "      <td>Write-host 'Привет, мир!'</td>\n",
       "      <td>0</td>\n",
       "      <td>0</td>\n",
       "      <td>+</td>\n",
       "    </tr>\n",
       "    <tr>\n",
       "      <th>2</th>\n",
       "      <td>powershell -noProfile -nonInteractive -Windows...</td>\n",
       "      <td>0</td>\n",
       "      <td>0</td>\n",
       "      <td>+</td>\n",
       "    </tr>\n",
       "    <tr>\n",
       "      <th>3</th>\n",
       "      <td>Write-host 'Мой голос это мой паспорт, верифиц...</td>\n",
       "      <td>0</td>\n",
       "      <td>0</td>\n",
       "      <td>+</td>\n",
       "    </tr>\n",
       "    <tr>\n",
       "      <th>4</th>\n",
       "      <td>Write-host 'Обфуска́ция или запутывание кода —...</td>\n",
       "      <td>0</td>\n",
       "      <td>0</td>\n",
       "      <td>+</td>\n",
       "    </tr>\n",
       "    <tr>\n",
       "      <th>5</th>\n",
       "      <td>Write-host 'Машинное обучение — класс методов ...</td>\n",
       "      <td>0</td>\n",
       "      <td>0</td>\n",
       "      <td>+</td>\n",
       "    </tr>\n",
       "    <tr>\n",
       "      <th>6</th>\n",
       "      <td>Write-host 'Красивое лучше, чем уродливое. Явн...</td>\n",
       "      <td>0</td>\n",
       "      <td>0</td>\n",
       "      <td>+</td>\n",
       "    </tr>\n",
       "    <tr>\n",
       "      <th>7</th>\n",
       "      <td>Write-host 'Красивое лучше, чем уродливое. Явн...</td>\n",
       "      <td>0</td>\n",
       "      <td>0</td>\n",
       "      <td>+</td>\n",
       "    </tr>\n",
       "  </tbody>\n",
       "</table>\n",
       "</div>"
      ],
      "text/plain": [
       "                                             command  y_true  y_pred is_equal\n",
       "0  Powershell -command Write-Host 'Мой голос это ...       0       0        +\n",
       "1                          Write-host 'Привет, мир!'       0       0        +\n",
       "2  powershell -noProfile -nonInteractive -Windows...       0       0        +\n",
       "3  Write-host 'Мой голос это мой паспорт, верифиц...       0       0        +\n",
       "4  Write-host 'Обфуска́ция или запутывание кода —...       0       0        +\n",
       "5  Write-host 'Машинное обучение — класс методов ...       0       0        +\n",
       "6  Write-host 'Красивое лучше, чем уродливое. Явн...       0       0        +\n",
       "7  Write-host 'Красивое лучше, чем уродливое. Явн...       0       0        +"
      ]
     },
     "execution_count": 47,
     "metadata": {},
     "output_type": "execute_result"
    }
   ],
   "source": [
    "cyrillic_mnb_score"
   ]
  },
  {
   "cell_type": "markdown",
   "id": "ba8ab05d",
   "metadata": {},
   "source": [
    "### Gaussian Naive Bayes"
   ]
  },
  {
   "cell_type": "code",
   "execution_count": 62,
   "id": "2440ae89",
   "metadata": {},
   "outputs": [],
   "source": [
    "score_handler_gnb: ScoreHandler = ScoreHandler(\n",
    "    model=gnb_model,\n",
    "    X=X_cmd,\n",
    "    y_true=target_cmd,\n",
    "    commands=commands_cmd\n",
    ")"
   ]
  },
  {
   "cell_type": "markdown",
   "id": "f6816be1",
   "metadata": {},
   "source": [
    "#### Cmd"
   ]
  },
  {
   "cell_type": "code",
   "execution_count": 63,
   "id": "1ba1243e",
   "metadata": {
    "scrolled": true
   },
   "outputs": [
    {
     "name": "stdout",
     "output_type": "stream",
     "text": [
      "Model: GaussianNB(var_smoothing=1e-06) || Accuracy: 0.92471 || Precision: 0.96935 || Recall: 0.95123\n"
     ]
    }
   ],
   "source": [
    "cmd_gnb_score: pd.DataFrame = score_handler_gnb.handle(cmd_gnb_filename)"
   ]
  },
  {
   "cell_type": "code",
   "execution_count": 64,
   "id": "348b2e30",
   "metadata": {},
   "outputs": [
    {
     "data": {
      "text/plain": [
       "+    5183\n",
       "-     422\n",
       "Name: is_equal, dtype: int64"
      ]
     },
     "execution_count": 64,
     "metadata": {},
     "output_type": "execute_result"
    }
   ],
   "source": [
    "cmd_gnb_score[\"is_equal\"].value_counts()"
   ]
  },
  {
   "cell_type": "markdown",
   "id": "5e410076",
   "metadata": {},
   "source": [
    "#### Psl (other commands)"
   ]
  },
  {
   "cell_type": "code",
   "execution_count": 65,
   "id": "bf9478fc",
   "metadata": {},
   "outputs": [],
   "source": [
    "score_handler_gnb.set_parameters(\n",
    "    X=X_psl,\n",
    "    y_true=target_psl,\n",
    "    commands=commands_psl\n",
    ")"
   ]
  },
  {
   "cell_type": "code",
   "execution_count": 66,
   "id": "7cb01973",
   "metadata": {},
   "outputs": [
    {
     "name": "stdout",
     "output_type": "stream",
     "text": [
      "Model: GaussianNB(var_smoothing=1e-06) || Accuracy: 0.98246 || Precision: 0.99378 || Recall: 0.98456\n"
     ]
    }
   ],
   "source": [
    "psl_gnb_score: pd.DataFrame = score_handler_gnb.handle(others_in_dataset_gnb_filename)"
   ]
  },
  {
   "cell_type": "code",
   "execution_count": 67,
   "id": "df7d9b49",
   "metadata": {},
   "outputs": [
    {
     "data": {
      "text/plain": [
       "+    13162\n",
       "-      235\n",
       "Name: is_equal, dtype: int64"
      ]
     },
     "execution_count": 67,
     "metadata": {},
     "output_type": "execute_result"
    }
   ],
   "source": [
    "psl_gnb_score[\"is_equal\"].value_counts()"
   ]
  },
  {
   "cell_type": "markdown",
   "id": "c1d23235",
   "metadata": {},
   "source": [
    "#### Poor obfuscated commands"
   ]
  },
  {
   "cell_type": "code",
   "execution_count": 68,
   "id": "049ef137",
   "metadata": {},
   "outputs": [],
   "source": [
    "score_handler_gnb.set_parameters(\n",
    "    X=X_poor_obfuscated,\n",
    "    y_true=target_poor_obfuscated,\n",
    "    commands=commands_poor_obfuscated\n",
    ")"
   ]
  },
  {
   "cell_type": "code",
   "execution_count": 69,
   "id": "5cded381",
   "metadata": {},
   "outputs": [
    {
     "name": "stdout",
     "output_type": "stream",
     "text": [
      "Model: GaussianNB(var_smoothing=1e-06) || Accuracy: 0.96165 || Precision: 1.0 || Recall: 0.96165\n"
     ]
    }
   ],
   "source": [
    "poor_obfuscated_gnb_score: pd.DataFrame = score_handler_gnb.handle(poor_obfuscated_gnb_filename)"
   ]
  },
  {
   "cell_type": "code",
   "execution_count": 70,
   "id": "fd6e378c",
   "metadata": {},
   "outputs": [
    {
     "data": {
      "text/plain": [
       "+    1354\n",
       "-      54\n",
       "Name: is_equal, dtype: int64"
      ]
     },
     "execution_count": 70,
     "metadata": {},
     "output_type": "execute_result"
    }
   ],
   "source": [
    "poor_obfuscated_gnb_score[\"is_equal\"].value_counts()"
   ]
  },
  {
   "cell_type": "markdown",
   "id": "b119e1ed",
   "metadata": {},
   "source": [
    "#### Commands with cyrillic symbols"
   ]
  },
  {
   "cell_type": "code",
   "execution_count": 71,
   "id": "ce4600a4",
   "metadata": {},
   "outputs": [],
   "source": [
    "score_handler_gnb.set_parameters(\n",
    "    X=X_cyrillic,\n",
    "    y_true=target_cyrillic,\n",
    "    commands=commands_cyrillic\n",
    ")"
   ]
  },
  {
   "cell_type": "code",
   "execution_count": 72,
   "id": "cf234955",
   "metadata": {},
   "outputs": [
    {
     "name": "stdout",
     "output_type": "stream",
     "text": [
      "Model: GaussianNB(var_smoothing=1e-06) || Accuracy: 0.125 || Precision: 0.0 || Recall: 0.0\n"
     ]
    },
    {
     "name": "stderr",
     "output_type": "stream",
     "text": [
      "D:\\Maksim\\anaconda3\\envs\\mlenv\\lib\\site-packages\\sklearn\\metrics\\_classification.py:1334: UndefinedMetricWarning: Recall is ill-defined and being set to 0.0 due to no true samples. Use `zero_division` parameter to control this behavior.\n",
      "  _warn_prf(average, modifier, msg_start, len(result))\n"
     ]
    }
   ],
   "source": [
    "cyrillic_gnb_score: pd.DataFrame = score_handler_gnb.handle(cyrillic_gnb_filename)"
   ]
  },
  {
   "cell_type": "code",
   "execution_count": 73,
   "id": "e46faef6",
   "metadata": {},
   "outputs": [
    {
     "data": {
      "text/html": [
       "<div>\n",
       "<style scoped>\n",
       "    .dataframe tbody tr th:only-of-type {\n",
       "        vertical-align: middle;\n",
       "    }\n",
       "\n",
       "    .dataframe tbody tr th {\n",
       "        vertical-align: top;\n",
       "    }\n",
       "\n",
       "    .dataframe thead th {\n",
       "        text-align: right;\n",
       "    }\n",
       "</style>\n",
       "<table border=\"1\" class=\"dataframe\">\n",
       "  <thead>\n",
       "    <tr style=\"text-align: right;\">\n",
       "      <th></th>\n",
       "      <th>command</th>\n",
       "      <th>y_true</th>\n",
       "      <th>y_pred</th>\n",
       "      <th>is_equal</th>\n",
       "    </tr>\n",
       "  </thead>\n",
       "  <tbody>\n",
       "    <tr>\n",
       "      <th>0</th>\n",
       "      <td>Powershell -command Write-Host 'Мой голос это ...</td>\n",
       "      <td>0</td>\n",
       "      <td>1</td>\n",
       "      <td>-</td>\n",
       "    </tr>\n",
       "    <tr>\n",
       "      <th>1</th>\n",
       "      <td>Write-host 'Привет, мир!'</td>\n",
       "      <td>0</td>\n",
       "      <td>1</td>\n",
       "      <td>-</td>\n",
       "    </tr>\n",
       "    <tr>\n",
       "      <th>2</th>\n",
       "      <td>powershell -noProfile -nonInteractive -Windows...</td>\n",
       "      <td>0</td>\n",
       "      <td>0</td>\n",
       "      <td>+</td>\n",
       "    </tr>\n",
       "    <tr>\n",
       "      <th>3</th>\n",
       "      <td>Write-host 'Мой голос это мой паспорт, верифиц...</td>\n",
       "      <td>0</td>\n",
       "      <td>1</td>\n",
       "      <td>-</td>\n",
       "    </tr>\n",
       "    <tr>\n",
       "      <th>4</th>\n",
       "      <td>Write-host 'Обфуска́ция или запутывание кода —...</td>\n",
       "      <td>0</td>\n",
       "      <td>1</td>\n",
       "      <td>-</td>\n",
       "    </tr>\n",
       "    <tr>\n",
       "      <th>5</th>\n",
       "      <td>Write-host 'Машинное обучение — класс методов ...</td>\n",
       "      <td>0</td>\n",
       "      <td>1</td>\n",
       "      <td>-</td>\n",
       "    </tr>\n",
       "    <tr>\n",
       "      <th>6</th>\n",
       "      <td>Write-host 'Красивое лучше, чем уродливое. Явн...</td>\n",
       "      <td>0</td>\n",
       "      <td>1</td>\n",
       "      <td>-</td>\n",
       "    </tr>\n",
       "    <tr>\n",
       "      <th>7</th>\n",
       "      <td>Write-host 'Красивое лучше, чем уродливое. Явн...</td>\n",
       "      <td>0</td>\n",
       "      <td>1</td>\n",
       "      <td>-</td>\n",
       "    </tr>\n",
       "  </tbody>\n",
       "</table>\n",
       "</div>"
      ],
      "text/plain": [
       "                                             command  y_true  y_pred is_equal\n",
       "0  Powershell -command Write-Host 'Мой голос это ...       0       1        -\n",
       "1                          Write-host 'Привет, мир!'       0       1        -\n",
       "2  powershell -noProfile -nonInteractive -Windows...       0       0        +\n",
       "3  Write-host 'Мой голос это мой паспорт, верифиц...       0       1        -\n",
       "4  Write-host 'Обфуска́ция или запутывание кода —...       0       1        -\n",
       "5  Write-host 'Машинное обучение — класс методов ...       0       1        -\n",
       "6  Write-host 'Красивое лучше, чем уродливое. Явн...       0       1        -\n",
       "7  Write-host 'Красивое лучше, чем уродливое. Явн...       0       1        -"
      ]
     },
     "execution_count": 73,
     "metadata": {},
     "output_type": "execute_result"
    }
   ],
   "source": [
    "cyrillic_gnb_score"
   ]
  },
  {
   "cell_type": "markdown",
   "id": "adb02e18",
   "metadata": {},
   "source": [
    "### Logistic Regression"
   ]
  },
  {
   "cell_type": "code",
   "execution_count": 47,
   "id": "d5ed2f26",
   "metadata": {},
   "outputs": [],
   "source": [
    "score_handler_logreg: ScoreHandler = ScoreHandler(\n",
    "    model=logreg_model,\n",
    "    X=X_cmd,\n",
    "    y_true=target_cmd,\n",
    "    commands=commands_cmd\n",
    ")"
   ]
  },
  {
   "cell_type": "markdown",
   "id": "0c8044e3",
   "metadata": {},
   "source": [
    "#### Cmd"
   ]
  },
  {
   "cell_type": "code",
   "execution_count": 48,
   "id": "8472dfab",
   "metadata": {},
   "outputs": [
    {
     "name": "stdout",
     "output_type": "stream",
     "text": [
      "Model: LogisticRegression(C=0.1, max_iter=1000, multi_class='ovr', n_jobs=-1,\n",
      "                   penalty='l1', solver='liblinear') || Accuracy: 0.67029 || Precision: 0.99971 || Recall: 0.6549\n"
     ]
    }
   ],
   "source": [
    "cmd_logreg_score: pd.DataFrame = score_handler_logreg.handle(cmd_logreg_filename)"
   ]
  },
  {
   "cell_type": "code",
   "execution_count": 49,
   "id": "6d01b7a1",
   "metadata": {},
   "outputs": [
    {
     "data": {
      "text/plain": [
       "+    3757\n",
       "-    1848\n",
       "Name: is_equal, dtype: int64"
      ]
     },
     "execution_count": 49,
     "metadata": {},
     "output_type": "execute_result"
    }
   ],
   "source": [
    "cmd_logreg_score[\"is_equal\"].value_counts()"
   ]
  },
  {
   "cell_type": "markdown",
   "id": "0eebea8c",
   "metadata": {},
   "source": [
    "#### Psl (other commands)"
   ]
  },
  {
   "cell_type": "code",
   "execution_count": 50,
   "id": "74eb7259",
   "metadata": {},
   "outputs": [],
   "source": [
    "score_handler_logreg.set_parameters(\n",
    "    X=X_psl,\n",
    "    y_true=target_psl,\n",
    "    commands=commands_psl\n",
    ")"
   ]
  },
  {
   "cell_type": "code",
   "execution_count": 51,
   "id": "873c132f",
   "metadata": {},
   "outputs": [
    {
     "name": "stdout",
     "output_type": "stream",
     "text": [
      "Model: LogisticRegression(C=0.1, max_iter=1000, multi_class='ovr', n_jobs=-1,\n",
      "                   penalty='l1', solver='liblinear') || Accuracy: 0.99545 || Precision: 1.0 || Recall: 0.99439\n"
     ]
    }
   ],
   "source": [
    "psl_logreg_score: pd.DataFrame = score_handler_logreg.handle(others_in_dataset_logreg_filename)"
   ]
  },
  {
   "cell_type": "code",
   "execution_count": 52,
   "id": "f91f26ba",
   "metadata": {},
   "outputs": [
    {
     "data": {
      "text/plain": [
       "+    13336\n",
       "-       61\n",
       "Name: is_equal, dtype: int64"
      ]
     },
     "execution_count": 52,
     "metadata": {},
     "output_type": "execute_result"
    }
   ],
   "source": [
    "psl_logreg_score[\"is_equal\"].value_counts()"
   ]
  },
  {
   "cell_type": "markdown",
   "id": "5127f9a4",
   "metadata": {},
   "source": [
    "#### Poor obfuscated commands"
   ]
  },
  {
   "cell_type": "code",
   "execution_count": 53,
   "id": "a84fe452",
   "metadata": {},
   "outputs": [],
   "source": [
    "score_handler_logreg.set_parameters(\n",
    "    X=X_poor_obfuscated,\n",
    "    y_true=target_poor_obfuscated,\n",
    "    commands=commands_poor_obfuscated\n",
    ")"
   ]
  },
  {
   "cell_type": "code",
   "execution_count": 54,
   "id": "3aece71e",
   "metadata": {},
   "outputs": [
    {
     "name": "stdout",
     "output_type": "stream",
     "text": [
      "Model: LogisticRegression(C=0.1, max_iter=1000, multi_class='ovr', n_jobs=-1,\n",
      "                   penalty='l1', solver='liblinear') || Accuracy: 0.42543 || Precision: 1.0 || Recall: 0.42543\n"
     ]
    }
   ],
   "source": [
    "poor_obfuscated_logreg_score: pd.DataFrame = score_handler_logreg.handle(poor_obfuscated_logreg_filename)"
   ]
  },
  {
   "cell_type": "code",
   "execution_count": 55,
   "id": "eb2195ac",
   "metadata": {},
   "outputs": [
    {
     "data": {
      "text/plain": [
       "-    809\n",
       "+    599\n",
       "Name: is_equal, dtype: int64"
      ]
     },
     "execution_count": 55,
     "metadata": {},
     "output_type": "execute_result"
    }
   ],
   "source": [
    "poor_obfuscated_logreg_score[\"is_equal\"].value_counts()"
   ]
  },
  {
   "cell_type": "markdown",
   "id": "2b38e2e3",
   "metadata": {},
   "source": [
    "#### Commands with cyrillic symbols"
   ]
  },
  {
   "cell_type": "code",
   "execution_count": 56,
   "id": "a30dae4f",
   "metadata": {},
   "outputs": [],
   "source": [
    "score_handler_logreg.set_parameters(\n",
    "    X=X_cyrillic,\n",
    "    y_true=target_cyrillic,\n",
    "    commands=commands_cyrillic\n",
    ")"
   ]
  },
  {
   "cell_type": "code",
   "execution_count": 57,
   "id": "c06ea56c",
   "metadata": {},
   "outputs": [
    {
     "name": "stdout",
     "output_type": "stream",
     "text": [
      "Model: LogisticRegression(C=0.1, max_iter=1000, multi_class='ovr', n_jobs=-1,\n",
      "                   penalty='l1', solver='liblinear') || Accuracy: 1.0 || Precision: 0.0 || Recall: 0.0\n"
     ]
    },
    {
     "name": "stderr",
     "output_type": "stream",
     "text": [
      "D:\\Maksim\\anaconda3\\envs\\mlenv\\lib\\site-packages\\sklearn\\metrics\\_classification.py:1334: UndefinedMetricWarning: Precision is ill-defined and being set to 0.0 due to no predicted samples. Use `zero_division` parameter to control this behavior.\n",
      "  _warn_prf(average, modifier, msg_start, len(result))\n",
      "D:\\Maksim\\anaconda3\\envs\\mlenv\\lib\\site-packages\\sklearn\\metrics\\_classification.py:1334: UndefinedMetricWarning: Recall is ill-defined and being set to 0.0 due to no true samples. Use `zero_division` parameter to control this behavior.\n",
      "  _warn_prf(average, modifier, msg_start, len(result))\n"
     ]
    }
   ],
   "source": [
    "cyrillic_logreg_score: pd.DataFrame = score_handler_logreg.handle(cyrillic_logreg_filename)"
   ]
  },
  {
   "cell_type": "code",
   "execution_count": 58,
   "id": "1ac01242",
   "metadata": {},
   "outputs": [
    {
     "data": {
      "text/html": [
       "<div>\n",
       "<style scoped>\n",
       "    .dataframe tbody tr th:only-of-type {\n",
       "        vertical-align: middle;\n",
       "    }\n",
       "\n",
       "    .dataframe tbody tr th {\n",
       "        vertical-align: top;\n",
       "    }\n",
       "\n",
       "    .dataframe thead th {\n",
       "        text-align: right;\n",
       "    }\n",
       "</style>\n",
       "<table border=\"1\" class=\"dataframe\">\n",
       "  <thead>\n",
       "    <tr style=\"text-align: right;\">\n",
       "      <th></th>\n",
       "      <th>command</th>\n",
       "      <th>y_true</th>\n",
       "      <th>y_pred</th>\n",
       "      <th>is_equal</th>\n",
       "    </tr>\n",
       "  </thead>\n",
       "  <tbody>\n",
       "    <tr>\n",
       "      <th>0</th>\n",
       "      <td>Powershell -command Write-Host 'Мой голос это ...</td>\n",
       "      <td>0</td>\n",
       "      <td>0</td>\n",
       "      <td>+</td>\n",
       "    </tr>\n",
       "    <tr>\n",
       "      <th>1</th>\n",
       "      <td>Write-host 'Привет, мир!'</td>\n",
       "      <td>0</td>\n",
       "      <td>0</td>\n",
       "      <td>+</td>\n",
       "    </tr>\n",
       "    <tr>\n",
       "      <th>2</th>\n",
       "      <td>powershell -noProfile -nonInteractive -Windows...</td>\n",
       "      <td>0</td>\n",
       "      <td>0</td>\n",
       "      <td>+</td>\n",
       "    </tr>\n",
       "    <tr>\n",
       "      <th>3</th>\n",
       "      <td>Write-host 'Мой голос это мой паспорт, верифиц...</td>\n",
       "      <td>0</td>\n",
       "      <td>0</td>\n",
       "      <td>+</td>\n",
       "    </tr>\n",
       "    <tr>\n",
       "      <th>4</th>\n",
       "      <td>Write-host 'Обфуска́ция или запутывание кода —...</td>\n",
       "      <td>0</td>\n",
       "      <td>0</td>\n",
       "      <td>+</td>\n",
       "    </tr>\n",
       "    <tr>\n",
       "      <th>5</th>\n",
       "      <td>Write-host 'Машинное обучение — класс методов ...</td>\n",
       "      <td>0</td>\n",
       "      <td>0</td>\n",
       "      <td>+</td>\n",
       "    </tr>\n",
       "    <tr>\n",
       "      <th>6</th>\n",
       "      <td>Write-host 'Красивое лучше, чем уродливое. Явн...</td>\n",
       "      <td>0</td>\n",
       "      <td>0</td>\n",
       "      <td>+</td>\n",
       "    </tr>\n",
       "    <tr>\n",
       "      <th>7</th>\n",
       "      <td>Write-host 'Красивое лучше, чем уродливое. Явн...</td>\n",
       "      <td>0</td>\n",
       "      <td>0</td>\n",
       "      <td>+</td>\n",
       "    </tr>\n",
       "  </tbody>\n",
       "</table>\n",
       "</div>"
      ],
      "text/plain": [
       "                                             command  y_true  y_pred is_equal\n",
       "0  Powershell -command Write-Host 'Мой голос это ...       0       0        +\n",
       "1                          Write-host 'Привет, мир!'       0       0        +\n",
       "2  powershell -noProfile -nonInteractive -Windows...       0       0        +\n",
       "3  Write-host 'Мой голос это мой паспорт, верифиц...       0       0        +\n",
       "4  Write-host 'Обфуска́ция или запутывание кода —...       0       0        +\n",
       "5  Write-host 'Машинное обучение — класс методов ...       0       0        +\n",
       "6  Write-host 'Красивое лучше, чем уродливое. Явн...       0       0        +\n",
       "7  Write-host 'Красивое лучше, чем уродливое. Явн...       0       0        +"
      ]
     },
     "execution_count": 58,
     "metadata": {},
     "output_type": "execute_result"
    }
   ],
   "source": [
    "cyrillic_logreg_score"
   ]
  },
  {
   "cell_type": "markdown",
   "id": "f4d410e8",
   "metadata": {},
   "source": [
    "### K-Nearest Neighbors (KNN)"
   ]
  },
  {
   "cell_type": "code",
   "execution_count": 33,
   "id": "3b297495",
   "metadata": {},
   "outputs": [],
   "source": [
    "score_handler_knn: ScoreHandler = ScoreHandler(\n",
    "    model=knn_model,\n",
    "    X=X_cmd,\n",
    "    y_true=target_cmd,\n",
    "    commands=commands_cmd\n",
    ")"
   ]
  },
  {
   "cell_type": "markdown",
   "id": "b49bffdb",
   "metadata": {},
   "source": [
    "#### Cmd"
   ]
  },
  {
   "cell_type": "code",
   "execution_count": 34,
   "id": "1cc70a45",
   "metadata": {},
   "outputs": [
    {
     "name": "stdout",
     "output_type": "stream",
     "text": [
      "Model: KNeighborsClassifier(n_jobs=-1) || Accuracy: 0.38965 || Precision: 0.9864 || Recall: 0.36584\n"
     ]
    }
   ],
   "source": [
    "cmd_knn_score: pd.DataFrame = score_handler_knn.handle(cmd_knn_filename)"
   ]
  },
  {
   "cell_type": "code",
   "execution_count": 36,
   "id": "50768af4",
   "metadata": {},
   "outputs": [
    {
     "data": {
      "text/plain": [
       "-    3421\n",
       "+    2184\n",
       "Name: is_equal, dtype: int64"
      ]
     },
     "execution_count": 36,
     "metadata": {},
     "output_type": "execute_result"
    }
   ],
   "source": [
    "cmd_knn_score[\"is_equal\"].value_counts()"
   ]
  },
  {
   "cell_type": "markdown",
   "id": "6257b3dd",
   "metadata": {},
   "source": [
    "#### Psl (other commands)"
   ]
  },
  {
   "cell_type": "code",
   "execution_count": 38,
   "id": "3ad8a44f",
   "metadata": {},
   "outputs": [],
   "source": [
    "score_handler_knn.set_parameters(\n",
    "    X=X_psl,\n",
    "    y_true=target_psl,\n",
    "    commands=commands_psl\n",
    ")"
   ]
  },
  {
   "cell_type": "code",
   "execution_count": 39,
   "id": "79c211c2",
   "metadata": {},
   "outputs": [
    {
     "name": "stdout",
     "output_type": "stream",
     "text": [
      "Model: KNeighborsClassifier(n_jobs=-1) || Accuracy: 0.98238 || Precision: 1.0 || Recall: 0.97831\n"
     ]
    }
   ],
   "source": [
    "psl_knn_score: pd.DataFrame = score_handler_knn.handle(others_in_dataset_knn_filename)"
   ]
  },
  {
   "cell_type": "code",
   "execution_count": 40,
   "id": "1f2fcfa9",
   "metadata": {},
   "outputs": [
    {
     "data": {
      "text/plain": [
       "+    13161\n",
       "-      236\n",
       "Name: is_equal, dtype: int64"
      ]
     },
     "execution_count": 40,
     "metadata": {},
     "output_type": "execute_result"
    }
   ],
   "source": [
    "psl_knn_score[\"is_equal\"].value_counts()"
   ]
  },
  {
   "cell_type": "markdown",
   "id": "7303c197",
   "metadata": {},
   "source": [
    "#### Poor obfuscated commands"
   ]
  },
  {
   "cell_type": "code",
   "execution_count": 41,
   "id": "45b6ff4d",
   "metadata": {},
   "outputs": [],
   "source": [
    "score_handler_knn.set_parameters(\n",
    "    X=X_poor_obfuscated,\n",
    "    y_true=target_poor_obfuscated,\n",
    "    commands=commands_poor_obfuscated\n",
    ")"
   ]
  },
  {
   "cell_type": "code",
   "execution_count": 42,
   "id": "a5e0f7f5",
   "metadata": {},
   "outputs": [
    {
     "name": "stdout",
     "output_type": "stream",
     "text": [
      "Model: KNeighborsClassifier(n_jobs=-1) || Accuracy: 0.17116 || Precision: 1.0 || Recall: 0.17116\n"
     ]
    }
   ],
   "source": [
    "poor_obfuscated_knn_score: pd.DataFrame = score_handler_knn.handle(poor_obfuscated_knn_filename)"
   ]
  },
  {
   "cell_type": "code",
   "execution_count": 43,
   "id": "c7773c86",
   "metadata": {},
   "outputs": [
    {
     "data": {
      "text/plain": [
       "-    1167\n",
       "+     241\n",
       "Name: is_equal, dtype: int64"
      ]
     },
     "execution_count": 43,
     "metadata": {},
     "output_type": "execute_result"
    }
   ],
   "source": [
    "poor_obfuscated_knn_score[\"is_equal\"].value_counts()"
   ]
  },
  {
   "cell_type": "markdown",
   "id": "5ea59655",
   "metadata": {},
   "source": [
    "#### Commands with cyrillic symbols"
   ]
  },
  {
   "cell_type": "code",
   "execution_count": 44,
   "id": "75f3fa18",
   "metadata": {},
   "outputs": [],
   "source": [
    "score_handler_knn.set_parameters(\n",
    "    X=X_cyrillic,\n",
    "    y_true=target_cyrillic,\n",
    "    commands=commands_cyrillic\n",
    ")"
   ]
  },
  {
   "cell_type": "code",
   "execution_count": 45,
   "id": "d9fcdea1",
   "metadata": {},
   "outputs": [
    {
     "name": "stdout",
     "output_type": "stream",
     "text": [
      "Model: KNeighborsClassifier(n_jobs=-1) || Accuracy: 1.0 || Precision: 0.0 || Recall: 0.0\n"
     ]
    },
    {
     "name": "stderr",
     "output_type": "stream",
     "text": [
      "D:\\Maksim\\anaconda3\\envs\\mlenv\\lib\\site-packages\\sklearn\\metrics\\_classification.py:1334: UndefinedMetricWarning: Precision is ill-defined and being set to 0.0 due to no predicted samples. Use `zero_division` parameter to control this behavior.\n",
      "  _warn_prf(average, modifier, msg_start, len(result))\n",
      "D:\\Maksim\\anaconda3\\envs\\mlenv\\lib\\site-packages\\sklearn\\metrics\\_classification.py:1334: UndefinedMetricWarning: Recall is ill-defined and being set to 0.0 due to no true samples. Use `zero_division` parameter to control this behavior.\n",
      "  _warn_prf(average, modifier, msg_start, len(result))\n"
     ]
    }
   ],
   "source": [
    "cyrillic_knn_score: pd.DataFrame = score_handler_knn.handle(cyrillic_knn_filename)"
   ]
  },
  {
   "cell_type": "code",
   "execution_count": 46,
   "id": "6db7f7b2",
   "metadata": {},
   "outputs": [
    {
     "data": {
      "text/html": [
       "<div>\n",
       "<style scoped>\n",
       "    .dataframe tbody tr th:only-of-type {\n",
       "        vertical-align: middle;\n",
       "    }\n",
       "\n",
       "    .dataframe tbody tr th {\n",
       "        vertical-align: top;\n",
       "    }\n",
       "\n",
       "    .dataframe thead th {\n",
       "        text-align: right;\n",
       "    }\n",
       "</style>\n",
       "<table border=\"1\" class=\"dataframe\">\n",
       "  <thead>\n",
       "    <tr style=\"text-align: right;\">\n",
       "      <th></th>\n",
       "      <th>command</th>\n",
       "      <th>y_true</th>\n",
       "      <th>y_pred</th>\n",
       "      <th>is_equal</th>\n",
       "    </tr>\n",
       "  </thead>\n",
       "  <tbody>\n",
       "    <tr>\n",
       "      <th>0</th>\n",
       "      <td>Powershell -command Write-Host 'Мой голос это ...</td>\n",
       "      <td>0</td>\n",
       "      <td>0</td>\n",
       "      <td>+</td>\n",
       "    </tr>\n",
       "    <tr>\n",
       "      <th>1</th>\n",
       "      <td>Write-host 'Привет, мир!'</td>\n",
       "      <td>0</td>\n",
       "      <td>0</td>\n",
       "      <td>+</td>\n",
       "    </tr>\n",
       "    <tr>\n",
       "      <th>2</th>\n",
       "      <td>powershell -noProfile -nonInteractive -Windows...</td>\n",
       "      <td>0</td>\n",
       "      <td>0</td>\n",
       "      <td>+</td>\n",
       "    </tr>\n",
       "    <tr>\n",
       "      <th>3</th>\n",
       "      <td>Write-host 'Мой голос это мой паспорт, верифиц...</td>\n",
       "      <td>0</td>\n",
       "      <td>0</td>\n",
       "      <td>+</td>\n",
       "    </tr>\n",
       "    <tr>\n",
       "      <th>4</th>\n",
       "      <td>Write-host 'Обфуска́ция или запутывание кода —...</td>\n",
       "      <td>0</td>\n",
       "      <td>0</td>\n",
       "      <td>+</td>\n",
       "    </tr>\n",
       "    <tr>\n",
       "      <th>5</th>\n",
       "      <td>Write-host 'Машинное обучение — класс методов ...</td>\n",
       "      <td>0</td>\n",
       "      <td>0</td>\n",
       "      <td>+</td>\n",
       "    </tr>\n",
       "    <tr>\n",
       "      <th>6</th>\n",
       "      <td>Write-host 'Красивое лучше, чем уродливое. Явн...</td>\n",
       "      <td>0</td>\n",
       "      <td>0</td>\n",
       "      <td>+</td>\n",
       "    </tr>\n",
       "    <tr>\n",
       "      <th>7</th>\n",
       "      <td>Write-host 'Красивое лучше, чем уродливое. Явн...</td>\n",
       "      <td>0</td>\n",
       "      <td>0</td>\n",
       "      <td>+</td>\n",
       "    </tr>\n",
       "  </tbody>\n",
       "</table>\n",
       "</div>"
      ],
      "text/plain": [
       "                                             command  y_true  y_pred is_equal\n",
       "0  Powershell -command Write-Host 'Мой голос это ...       0       0        +\n",
       "1                          Write-host 'Привет, мир!'       0       0        +\n",
       "2  powershell -noProfile -nonInteractive -Windows...       0       0        +\n",
       "3  Write-host 'Мой голос это мой паспорт, верифиц...       0       0        +\n",
       "4  Write-host 'Обфуска́ция или запутывание кода —...       0       0        +\n",
       "5  Write-host 'Машинное обучение — класс методов ...       0       0        +\n",
       "6  Write-host 'Красивое лучше, чем уродливое. Явн...       0       0        +\n",
       "7  Write-host 'Красивое лучше, чем уродливое. Явн...       0       0        +"
      ]
     },
     "execution_count": 46,
     "metadata": {},
     "output_type": "execute_result"
    }
   ],
   "source": [
    "cyrillic_knn_score"
   ]
  },
  {
   "cell_type": "code",
   "execution_count": 13,
   "id": "ede54da5",
   "metadata": {},
   "outputs": [],
   "source": []
  }
 ],
 "metadata": {
  "kernelspec": {
   "display_name": "Python 3 (ipykernel)",
   "language": "python",
   "name": "python3"
  },
  "language_info": {
   "codemirror_mode": {
    "name": "ipython",
    "version": 3
   },
   "file_extension": ".py",
   "mimetype": "text/x-python",
   "name": "python",
   "nbconvert_exporter": "python",
   "pygments_lexer": "ipython3",
   "version": "3.9.16"
  }
 },
 "nbformat": 4,
 "nbformat_minor": 5
}

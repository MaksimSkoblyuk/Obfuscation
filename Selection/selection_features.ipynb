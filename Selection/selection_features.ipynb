{
 "cells": [
  {
   "cell_type": "code",
   "execution_count": 1,
   "id": "907b10eb",
   "metadata": {},
   "outputs": [],
   "source": [
    "import pandas as pd \n",
    "import numpy as np\n",
    "import matplotlib.pyplot as plt\n",
    "from sklearn.preprocessing import MinMaxScaler"
   ]
  },
  {
   "cell_type": "code",
   "execution_count": 22,
   "id": "fd7f7ee4",
   "metadata": {},
   "outputs": [],
   "source": [
    "from typing import List, Union\n",
    "from time import time"
   ]
  },
  {
   "cell_type": "markdown",
   "id": "7d6a11c1",
   "metadata": {},
   "source": [
    "# Data uploading"
   ]
  },
  {
   "cell_type": "code",
   "execution_count": 3,
   "id": "aff2133a",
   "metadata": {},
   "outputs": [],
   "source": [
    "file_path: str = r\"D:\\Obfuscation\\datasets\\TOKENIZER_DATASET_UPDATED.csv\"\n",
    "obfuscated_commands = pd.read_csv(file_path, sep=';')"
   ]
  },
  {
   "cell_type": "code",
   "execution_count": 4,
   "id": "554295a5",
   "metadata": {},
   "outputs": [],
   "source": [
    "X, y = obfuscated_commands.iloc[:, :-1], obfuscated_commands.iloc[:, -1]\n",
    "original_features: List[str] = X.columns"
   ]
  },
  {
   "cell_type": "markdown",
   "id": "2297710e",
   "metadata": {},
   "source": [
    "## additional steps"
   ]
  },
  {
   "cell_type": "code",
   "execution_count": 6,
   "id": "c06e48be",
   "metadata": {},
   "outputs": [],
   "source": [
    "def scale_data(scaler, X) -> None:\n",
    "    X_scaled = scaler.fit_transform(X)\n",
    "    return scaler, X_scaled"
   ]
  },
  {
   "cell_type": "code",
   "execution_count": 7,
   "id": "15adaf05",
   "metadata": {},
   "outputs": [],
   "source": [
    "scaler = MinMaxScaler()\n",
    "scaler, X_scaled = scale_data(scaler, X)\n",
    "X_scaled_df = pd.DataFrame(X_scaled, columns=X.columns)"
   ]
  },
  {
   "cell_type": "code",
   "execution_count": 8,
   "id": "104805e4",
   "metadata": {},
   "outputs": [],
   "source": [
    "pca_n_components: List[int] = [\n",
    "    138, \n",
    "    513,\n",
    "]"
   ]
  },
  {
   "cell_type": "code",
   "execution_count": 9,
   "id": "5c0c29fb",
   "metadata": {},
   "outputs": [],
   "source": [
    "# decorator for measuring execution time of function\n",
    "def calc_time(func):\n",
    "    def wrapper(*args, **kwargs):\n",
    "        start_time: float = time()  # in seconds\n",
    "        result = func(*args, **kwargs)\n",
    "        execution_time: float = time() - start_time\n",
    "        print(f\"Время выполнения функции: {execution_time // 60} min {execution_time % 60} s\")\n",
    "        return result\n",
    "    return wrapper"
   ]
  },
  {
   "cell_type": "code",
   "execution_count": 49,
   "id": "96a7ca40",
   "metadata": {},
   "outputs": [],
   "source": [
    "@calc_time\n",
    "def select_features(selector, X, y):\n",
    "    selector.fit(X, y)\n",
    "    selected_columns = X.columns[selector.get_support()]\n",
    "    selected_features = X[selected_columns]\n",
    "    return selected_features"
   ]
  },
  {
   "cell_type": "markdown",
   "id": "d8d2d738",
   "metadata": {},
   "source": [
    "# Filter methods"
   ]
  },
  {
   "cell_type": "markdown",
   "id": "bca4f7ac",
   "metadata": {},
   "source": [
    "### SelectKBest and SelectPercentile with Chi square, ANOVA F-value and Information Gain(IG) score functions"
   ]
  },
  {
   "cell_type": "code",
   "execution_count": 11,
   "id": "f1b77e2e",
   "metadata": {},
   "outputs": [],
   "source": [
    "from sklearn.feature_selection import SelectKBest\n",
    "from sklearn.feature_selection import SelectPercentile\n",
    "from sklearn.feature_selection import chi2\n",
    "from sklearn.feature_selection import f_classif\n",
    "from sklearn.feature_selection import mutual_info_classif"
   ]
  },
  {
   "cell_type": "code",
   "execution_count": 12,
   "id": "09a6698d",
   "metadata": {},
   "outputs": [],
   "source": [
    "score_functions = [\n",
    "    chi2,\n",
    "    f_classif,\n",
    "    mutual_info_classif,\n",
    "]\n",
    "\n",
    "filter_methods_labels: List[str] = [\n",
    "    \"SelectKBest-chi2-138\",\n",
    "    \"SelectKBest-f_classif-138\",\n",
    "    \"SelectKBest-mutual_info_classif-138\",\n",
    "    \"SelectPercentile-chi2-138\",\n",
    "    \"SelectPercentile-f_classif-138\",\n",
    "    \"SelectPercentile-mutual_info_classif-138\",\n",
    "    \"SelectKBest-chi2-513\",\n",
    "    \"SelectKBest-f_classif-513\",\n",
    "    \"SelectKBest-mutual_info_classif-513\",\n",
    "    \"SelectPercentile-chi2-513\",\n",
    "    \"SelectPercentile-f_classif-513\",\n",
    "    \"SelectPercentile-mutual_info_classif-513\",\n",
    "]\n",
    "\n",
    "filter_methods_result: List = []"
   ]
  },
  {
   "cell_type": "code",
   "execution_count": 14,
   "id": "a558eac4",
   "metadata": {},
   "outputs": [],
   "source": [
    "# with 138 features\n",
    "n_components1: int = pca_n_components[0]\n",
    "filter_methods_1: List = [SelectKBest(score_func=func, k=n_components1) for func in score_functions] + [SelectPercentile(score_func=func, percentile=n_components1/len(original_features) * 100) for func in score_functions]\n",
    "    \n",
    "# with 513 features\n",
    "n_components2: int = pca_n_components[1]\n",
    "filter_methods_2: List = [SelectKBest(score_func=func, k=n_components2) for func in score_functions] + [SelectPercentile(score_func=func, percentile=n_components2/len(original_features) * 100) for func in score_functions]"
   ]
  },
  {
   "cell_type": "code",
   "execution_count": 15,
   "id": "82e5c19f",
   "metadata": {},
   "outputs": [
    {
     "name": "stdout",
     "output_type": "stream",
     "text": [
      "Время выполнения функции: 0.0 min 4.826271057128906 s\n",
      "Время выполнения функции: 0.0 min 4.880026817321777 s\n",
      "Время выполнения функции: 7.0 min 30.136009693145752 s\n",
      "Время выполнения функции: 0.0 min 1.3903450965881348 s\n",
      "Время выполнения функции: 0.0 min 3.3752481937408447 s\n",
      "Время выполнения функции: 7.0 min 29.62198281288147 s\n",
      "Время выполнения функции: 0.0 min 1.1715965270996094 s\n",
      "Время выполнения функции: 0.0 min 2.729160785675049 s\n",
      "Время выполнения функции: 7.0 min 30.637426376342773 s\n",
      "Время выполнения функции: 0.0 min 1.1071209907531738 s\n",
      "Время выполнения функции: 0.0 min 2.3635640144348145 s\n",
      "Время выполнения функции: 7.0 min 32.271228313446045 s\n"
     ]
    }
   ],
   "source": [
    "for selector in filter_methods_1 + filter_methods_2:\n",
    "    selected_features = select_features(selector, X_scaled_df.copy(), y)\n",
    "    filter_methods_result.append(selected_features)"
   ]
  },
  {
   "cell_type": "code",
   "execution_count": 16,
   "id": "0bbbf568",
   "metadata": {
    "scrolled": false
   },
   "outputs": [
    {
     "name": "stdout",
     "output_type": "stream",
     "text": [
      "(29730, 138)\n",
      "(29730, 138)\n",
      "(29730, 138)\n",
      "(29730, 138)\n",
      "(29730, 138)\n",
      "(29730, 138)\n",
      "(29730, 513)\n",
      "(29730, 513)\n",
      "(29730, 513)\n",
      "(29730, 513)\n",
      "(29730, 513)\n",
      "(29730, 513)\n"
     ]
    }
   ],
   "source": [
    "for selected_features in filter_methods_result:\n",
    "    print(selected_features.shape)"
   ]
  },
  {
   "cell_type": "markdown",
   "id": "cfe6e2c6",
   "metadata": {},
   "source": [
    "# Wrapper methods"
   ]
  },
  {
   "cell_type": "code",
   "execution_count": 40,
   "id": "96171dd5",
   "metadata": {},
   "outputs": [],
   "source": [
    "from sklearn.feature_selection import SequentialFeatureSelector as SFS\n",
    "from sklearn.feature_selection import RFE\n",
    "from sklearn.linear_model import LogisticRegression\n",
    "from sklearn.naive_bayes import GaussianNB\n",
    "from sklearn.svm import SVC"
   ]
  },
  {
   "cell_type": "code",
   "execution_count": 41,
   "id": "b009931f",
   "metadata": {},
   "outputs": [],
   "source": [
    "estimators = [\n",
    "    LogisticRegression,\n",
    "    GaussianNB,\n",
    "    SVC,\n",
    "]\n",
    "\n",
    "wrapper_methods_labels: List[str] = [\n",
    "    \"SFS-LR-138\",\n",
    "    \"SFS-LR-513\", \n",
    "    \"RFE-LR-138\",\n",
    "    \"RFE-LR-513\",\n",
    "    \"SFS-GaussianNB-138\",\n",
    "    \"SFS-GaussianNB-513\",\n",
    "    \"RFE-GaussianNB-138\",\n",
    "    \"RFE-GaussianNB-513\",\n",
    "    \"SFS-SVC-138\",\n",
    "    \"SFS-SVC-513\",\n",
    "    \"RFE-SVC-138\",\n",
    "    \"RFE-SVC-513\",\n",
    "]\n",
    "\n",
    "wrapper_methods_result: List = []"
   ]
  },
  {
   "cell_type": "code",
   "execution_count": 43,
   "id": "c2fcc9b4",
   "metadata": {},
   "outputs": [],
   "source": [
    "# estimator = LR\n",
    "wrapper_methods_LR: List = [\n",
    "    SFS(estimator=LogisticRegression(solver=\"saga\", max_iter=5000, n_jobs=-1, random_state=42),\n",
    "        n_features_to_select=n_components,\n",
    "        direction=\"forward\",\n",
    "        scoring=\"accuracy\",\n",
    "        n_jobs=-1) for n_components in pca_n_components\n",
    "] + [\n",
    "    RFE(estimator=LogisticRegression(solver=\"saga\", max_iter=5000, n_jobs=-1, random_state=42),\n",
    "        n_features_to_select=n_components) for n_components in pca_n_components\n",
    "]"
   ]
  },
  {
   "cell_type": "code",
   "execution_count": 48,
   "id": "3c8c8d8e",
   "metadata": {},
   "outputs": [],
   "source": [
    "# estimator = GausianNaiveBayes from NB\n",
    "wrapper_methods_GNB: List = [\n",
    "    SFS(estimator=GaussianNB(),\n",
    "        n_features_to_select=n_components,\n",
    "        direction=\"forward\",\n",
    "        scoring=\"accuracy\",\n",
    "        n_jobs=-1) for n_components in pca_n_components\n",
    "] + [\n",
    "    RFE(estimator=GaussianNB(),\n",
    "        n_features_to_select=n_components) for n_components in pca_n_components\n",
    "]"
   ]
  },
  {
   "cell_type": "code",
   "execution_count": 47,
   "id": "db31e93b",
   "metadata": {},
   "outputs": [],
   "source": [
    "# estimator = SupportVectorClassifier(SVC) from SVM\n",
    "wrapper_methods_SVC: List = [\n",
    "    SFS(estimator=SVC(gamma='auto'),\n",
    "        n_features_to_select=n_components,\n",
    "        direction=\"forward\",\n",
    "        scoring=\"accuracy\",\n",
    "        n_jobs=-1) for n_components in pca_n_components\n",
    "] + [\n",
    "    RFE(estimator=SVC(gamma='auto'),\n",
    "        n_features_to_select=n_components) for n_components in pca_n_components\n",
    "]"
   ]
  },
  {
   "cell_type": "code",
   "execution_count": null,
   "id": "e9f5f954",
   "metadata": {},
   "outputs": [],
   "source": [
    "for selector in wrapper_methods_LR + wrapper_methods_GNB + wrapper_methods_SVC:\n",
    "    selected_features = select_features(selector, X_scaled_df.copy(), y)\n",
    "    wrapper_methods_result.append(select_features)"
   ]
  },
  {
   "cell_type": "code",
   "execution_count": null,
   "id": "86700c8d",
   "metadata": {},
   "outputs": [],
   "source": [
    "for selected_features in wrapper_methods_result:\n",
    "    print(selected_features.shape)"
   ]
  },
  {
   "cell_type": "markdown",
   "id": "f8a85374",
   "metadata": {},
   "source": [
    "# Embedded methods"
   ]
  },
  {
   "cell_type": "code",
   "execution_count": 50,
   "id": "520cc9d3",
   "metadata": {},
   "outputs": [],
   "source": [
    "from sklearn.linear_model import Lasso\n",
    "from sklearn.ensemble import RandomForestClassifier\n",
    "from sklearn.linear_model import RidgeClassifier\n",
    "from sklearn.linear_model import ElasticNet"
   ]
  },
  {
   "cell_type": "code",
   "execution_count": 51,
   "id": "be5d765b",
   "metadata": {},
   "outputs": [],
   "source": [
    "wrapper_methods_labels: List[str] = [\n",
    "]\n",
    "\n",
    "wrapper_methods_result: List[List[str]] = []"
   ]
  },
  {
   "cell_type": "code",
   "execution_count": null,
   "id": "1d61b0dd",
   "metadata": {},
   "outputs": [],
   "source": [
    "# Random Forest Classifier\n",
    "rf = RandomForestClassifier(random_state=42, n_jobs=-1)"
   ]
  },
  {
   "cell_type": "code",
   "execution_count": null,
   "id": "461008f3",
   "metadata": {},
   "outputs": [],
   "source": [
    "# Lasso (least absolute shrinkage and selection operator)\n",
    "lasso = Lasso(random_state=42, max_iter=5000)"
   ]
  },
  {
   "cell_type": "code",
   "execution_count": null,
   "id": "03265155",
   "metadata": {},
   "outputs": [],
   "source": [
    "# RidgeClassifier\n",
    "ridge = RidgeClassifier(solver=\"saga\", max_iter=5000, random_state=42)"
   ]
  },
  {
   "cell_type": "code",
   "execution_count": null,
   "id": "a7c4d4ff",
   "metadata": {},
   "outputs": [],
   "source": [
    "# ElasticNet\n",
    "elastic = ElasticNet(random_state=42, max_iter=5000)"
   ]
  },
  {
   "cell_type": "markdown",
   "id": "7d0cd8f1",
   "metadata": {},
   "source": [
    "# Writing to CSV file"
   ]
  },
  {
   "cell_type": "code",
   "execution_count": 25,
   "id": "23889f09",
   "metadata": {},
   "outputs": [],
   "source": [
    "import csv\n",
    "\n",
    "filename: str = r\"D:\\Obfuscation\\data\\selection_result.csv\""
   ]
  },
  {
   "cell_type": "code",
   "execution_count": 37,
   "id": "6dcec052",
   "metadata": {},
   "outputs": [],
   "source": [
    "def write_csv(filename: str, row: List[Union[str, int, float]]) -> None:\n",
    "    with open(filename, mode='a', newline='', encoding=\"UTF8\") as file:\n",
    "        writer = csv.writer(file)\n",
    "        writer.writerow(row)"
   ]
  },
  {
   "cell_type": "code",
   "execution_count": 38,
   "id": "cc4e1f86",
   "metadata": {},
   "outputs": [],
   "source": [
    "# writing header\n",
    "header: List[str] = [\"Method_with_parameters\"] + original_features\n",
    "write_csv(filename, row=header)"
   ]
  },
  {
   "cell_type": "markdown",
   "id": "8eed9298",
   "metadata": {},
   "source": [
    "### Processing filter methods result  "
   ]
  },
  {
   "cell_type": "code",
   "execution_count": 39,
   "id": "84ca7664",
   "metadata": {},
   "outputs": [],
   "source": [
    "# Порядок в выбранных признаках сохранен, поэтому воспользуемся двумя указателями без сортировки имен признаков\n",
    "i: int = 0  # pointer in list of selected features\n",
    "j: int = 0  # pointer in list of original features\n",
    "for k, df in enumerate(filter_methods_result):\n",
    "    selected_features = df.columns\n",
    "    row: List[str] = [filter_methods_labels[k]] + ['0'] * len(original_features)\n",
    "    while i < len(selected_features) and j < len(original_features):\n",
    "        if selected_features[i] == original_features[j]:\n",
    "            row[j] = '1'\n",
    "            i += 1\n",
    "        j += 1\n",
    "    write_csv(filename, row)\n",
    "    i = j = 0"
   ]
  },
  {
   "cell_type": "markdown",
   "id": "01a5d038",
   "metadata": {},
   "source": [
    "### Processing wrapper methods result"
   ]
  },
  {
   "cell_type": "code",
   "execution_count": null,
   "id": "48f998eb",
   "metadata": {},
   "outputs": [],
   "source": [
    "i: int = 0  # pointer in list of selected features\n",
    "j: int = 0  # pointer in list of original features\n",
    "for k, df in enumerate(wrapper_methods_result):\n",
    "    selected_features = df.columns\n",
    "    row: List[str] = [wrapper_methods_labels[k]] + ['0'] * len(original_features)\n",
    "    while i < len(selected_features) and j < len(original_features):\n",
    "        if selected_features[i] == original_features[j]:\n",
    "            row[j] = '1'\n",
    "            i += 1\n",
    "        j += 1\n",
    "    write_csv(filename, row)\n",
    "    i = j = 0"
   ]
  },
  {
   "cell_type": "markdown",
   "id": "84a07360",
   "metadata": {},
   "source": [
    "### Processing embedded methods result"
   ]
  },
  {
   "cell_type": "code",
   "execution_count": null,
   "id": "d2433697",
   "metadata": {},
   "outputs": [],
   "source": []
  }
 ],
 "metadata": {
  "kernelspec": {
   "display_name": "Python 3 (ipykernel)",
   "language": "python",
   "name": "python3"
  },
  "language_info": {
   "codemirror_mode": {
    "name": "ipython",
    "version": 3
   },
   "file_extension": ".py",
   "mimetype": "text/x-python",
   "name": "python",
   "nbconvert_exporter": "python",
   "pygments_lexer": "ipython3",
   "version": "3.9.13"
  }
 },
 "nbformat": 4,
 "nbformat_minor": 5
}
